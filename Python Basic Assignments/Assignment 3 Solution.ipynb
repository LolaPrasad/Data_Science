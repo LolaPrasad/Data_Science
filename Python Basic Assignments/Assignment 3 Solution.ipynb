{
 "cells": [
  {
   "cell_type": "markdown",
   "id": "0e87733f",
   "metadata": {},
   "source": [
    "### 1. Why are functions advantageous to have in your programs?"
   ]
  },
  {
   "cell_type": "markdown",
   "id": "1070685a",
   "metadata": {},
   "source": [
    "### Ans:\n",
    "   It is used to put some commonly or repeatedly done tasks together and make a function so that instead of writing the same code again and again for different inputs, we can do the function calls to reuse code contained in it over and over again. It means the main advantage of functions is code Readability and code Reusability\n",
    "\n"
   ]
  },
  {
   "cell_type": "markdown",
   "id": "22804434",
   "metadata": {},
   "source": [
    "### 2. When does the code in a function run: when it's specified or when it's called?"
   ]
  },
  {
   "cell_type": "markdown",
   "id": "d3015df2",
   "metadata": {},
   "source": [
    "#### Ans:\n",
    " The code in a function executes when the function is called, not when the function is defined"
   ]
  },
  {
   "cell_type": "markdown",
   "id": "80fd4442",
   "metadata": {},
   "source": [
    "### 3. What statement creates a function?"
   ]
  },
  {
   "cell_type": "markdown",
   "id": "124d12ed",
   "metadata": {},
   "source": [
    "#### Ans:\n",
    "In Python, define a function with the def keyword, then write the function identifier (name) followed by parentheses and a colon.\n",
    "\n"
   ]
  },
  {
   "cell_type": "code",
   "execution_count": 1,
   "id": "e4f7e282",
   "metadata": {},
   "outputs": [
    {
     "name": "stdout",
     "output_type": "stream",
     "text": [
      "Greetings!\n"
     ]
    }
   ],
   "source": [
    "# example\n",
    "def function():\n",
    "    print(\"Greetings!\")\n",
    "    \n",
    "function()"
   ]
  },
  {
   "cell_type": "markdown",
   "id": "7c212e0d",
   "metadata": {},
   "source": [
    "### 4. What is the difference between a function and a function call?"
   ]
  },
  {
   "cell_type": "markdown",
   "id": "ad09bcec",
   "metadata": {},
   "source": [
    "#### Ans :\n",
    "A function is a block of code that performs a specific task, while a function call is an expression that invokes a function and executes the code in the function"
   ]
  },
  {
   "cell_type": "code",
   "execution_count": 2,
   "id": "b93bb982",
   "metadata": {},
   "outputs": [
    {
     "name": "stdout",
     "output_type": "stream",
     "text": [
      "Hello Alice\n"
     ]
    }
   ],
   "source": [
    "# example\n",
    "\n",
    "def greet(name):    # function\n",
    "    print(\"Hello \" + name )\n",
    "    \n",
    "    \n",
    "# function call\n",
    "greet(\"Alice\")"
   ]
  },
  {
   "cell_type": "markdown",
   "id": "30fb0d2c",
   "metadata": {},
   "source": [
    "### 5. How many global scopes are there in a Python program? How many local scopes?"
   ]
  },
  {
   "cell_type": "markdown",
   "id": "d415844c",
   "metadata": {},
   "source": [
    "#### Ans:\n",
    "  There is one global scope and a local scope is created whenever a function is called."
   ]
  },
  {
   "cell_type": "code",
   "execution_count": 3,
   "id": "bf6faa64",
   "metadata": {},
   "outputs": [
    {
     "name": "stdout",
     "output_type": "stream",
     "text": [
      "50\n",
      "100\n"
     ]
    }
   ],
   "source": [
    "#example\n",
    "\n",
    "# Global scope\n",
    "x = 100\n",
    "\n",
    "def myfun():\n",
    "    \n",
    "    x=50 # local scope\n",
    "    print(x)\n",
    "    \n",
    "myfun()\n",
    "\n",
    "print(x)"
   ]
  },
  {
   "cell_type": "markdown",
   "id": "a9c70d7a",
   "metadata": {},
   "source": [
    "### 6. What happens to variables in a local scope when the function call returns?"
   ]
  },
  {
   "cell_type": "markdown",
   "id": "49a8fba2",
   "metadata": {},
   "source": [
    "#### Ans:\n",
    "  When a function returns, the local scope is destroyed , and all the variable in it are forgotten"
   ]
  },
  {
   "cell_type": "markdown",
   "id": "9cfd72b4",
   "metadata": {},
   "source": [
    "### 7. What is the concept of a return value? Is it possible to have a return value in an expression?"
   ]
  },
  {
   "cell_type": "markdown",
   "id": "6b60abc1",
   "metadata": {},
   "source": [
    "#### Ans:\n",
    "  A return value is the value that a function call evaluates to.Like any value , return value can be used as part of an expression"
   ]
  },
  {
   "cell_type": "markdown",
   "id": "c12260ac",
   "metadata": {},
   "source": [
    "### 8. If a function does not have a return statement, what is the return value of a call to that function?"
   ]
  },
  {
   "cell_type": "markdown",
   "id": "ce2f25d5",
   "metadata": {},
   "source": [
    "#### Ans:\n",
    "  If there is no return statement for a function, its return value is <b>None"
   ]
  },
  {
   "cell_type": "markdown",
   "id": "e20d542e",
   "metadata": {},
   "source": [
    "### 9. How do you make a function variable refer to the global variable?"
   ]
  },
  {
   "cell_type": "markdown",
   "id": "92e847a3",
   "metadata": {},
   "source": [
    "#### Ans:\n",
    "A global statement will force a variable in a function to refer to the global variable. If you want to refer to a global variable in a function, you can use the <b>global</b> keyword to declare which variables are global."
   ]
  },
  {
   "cell_type": "markdown",
   "id": "e3b32dc0",
   "metadata": {},
   "source": [
    "### 10. What is the data type of None?"
   ]
  },
  {
   "cell_type": "markdown",
   "id": "d5461a9b",
   "metadata": {},
   "source": [
    "#### Ans:\n",
    "  The data type of None is <b>NoneType<b>"
   ]
  },
  {
   "cell_type": "markdown",
   "id": "ad2ce71a",
   "metadata": {},
   "source": [
    "### 11. What does the sentence import areallyourpetsnamederic do?"
   ]
  },
  {
   "cell_type": "markdown",
   "id": "fc30cc59",
   "metadata": {},
   "source": [
    "#### Ans:\n",
    "  That import statement imports a module named areallyourpetsnamederic."
   ]
  },
  {
   "cell_type": "markdown",
   "id": "450e604d",
   "metadata": {},
   "source": [
    "### 12. If you had a bacon() feature in a spam module, what would you call it after importing spam?"
   ]
  },
  {
   "cell_type": "markdown",
   "id": "86a9589e",
   "metadata": {},
   "source": [
    "#### Ans:\n",
    "  This function can be called with <b>spam.bacon()."
   ]
  },
  {
   "cell_type": "markdown",
   "id": "5b024577",
   "metadata": {},
   "source": [
    "### 13. What can you do to save a programme from crashing if it encounters an error?"
   ]
  },
  {
   "cell_type": "markdown",
   "id": "d74f4fe5",
   "metadata": {},
   "source": [
    "#### Ans:\n",
    "  Place the line of code that might cause an error in a <b>try</b> clause, and use expect <b>block</b> to handle the error."
   ]
  },
  {
   "cell_type": "markdown",
   "id": "3976ac8e",
   "metadata": {},
   "source": [
    "### 14. What is the purpose of the try clause? What is the purpose of the except clause?"
   ]
  },
  {
   "cell_type": "markdown",
   "id": "eda0ff23",
   "metadata": {},
   "source": [
    "#### Ans:\n",
    " The code that could potentially cause an error goes in the try clause. The code that executes if an error happens goes in the expect clause"
   ]
  },
  {
   "cell_type": "code",
   "execution_count": null,
   "id": "eabbc0cb",
   "metadata": {},
   "outputs": [],
   "source": []
  }
 ],
 "metadata": {
  "kernelspec": {
   "display_name": "Python 3 (ipykernel)",
   "language": "python",
   "name": "python3"
  },
  "language_info": {
   "codemirror_mode": {
    "name": "ipython",
    "version": 3
   },
   "file_extension": ".py",
   "mimetype": "text/x-python",
   "name": "python",
   "nbconvert_exporter": "python",
   "pygments_lexer": "ipython3",
   "version": "3.10.9"
  }
 },
 "nbformat": 4,
 "nbformat_minor": 5
}
