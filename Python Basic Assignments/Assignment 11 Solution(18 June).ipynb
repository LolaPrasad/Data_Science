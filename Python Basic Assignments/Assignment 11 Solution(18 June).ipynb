{
 "cells": [
  {
   "cell_type": "markdown",
   "metadata": {},
   "source": [
    "# Assignment 10 Solution (18 June)"
   ]
  },
  {
   "cell_type": "markdown",
   "metadata": {},
   "source": [
    "### 1. What is the role of the 'else' block in a try-except statement? Provide an example scenario where it would be useful.\n"
   ]
  },
  {
   "cell_type": "markdown",
   "metadata": {},
   "source": [
    "### Ans:\n",
    "\n",
    "In a try-except statement in Python, the else block is optional and is executed only if no exception is raised in the corresponding try block. Its purpose is to define a block of code that should be executed when the try block completes successfully, without any exceptions."
   ]
  },
  {
   "cell_type": "code",
   "execution_count": 1,
   "metadata": {},
   "outputs": [
    {
     "name": "stdout",
     "output_type": "stream",
     "text": [
      "The result of 10 divided by 2 is: 5.0\n",
      "Error: Cannot divide by zero!\n"
     ]
    }
   ],
   "source": [
    "# Example\n",
    "def divide_numbers(a, b):\n",
    "    try:\n",
    "        result = a / b\n",
    "    except ZeroDivisionError:\n",
    "        print(\"Error: Cannot divide by zero!\")\n",
    "    else:\n",
    "        print(f\"The result of {a} divided by {b} is: {result}\")\n",
    "\n",
    "divide_numbers(10, 2)  # Output: \"The result of 10 divided by 2 is: 5.0\"\n",
    "divide_numbers(10, 0)  # Output: \"Error: Cannot divide by zero!\"\n"
   ]
  },
  {
   "cell_type": "markdown",
   "metadata": {},
   "source": [
    "### 2. Can a try-except block be nested inside another try-except block? Explain with an example"
   ]
  },
  {
   "cell_type": "markdown",
   "metadata": {},
   "source": [
    "### Ans:\n",
    "Yes, it is possible to have nested try-except blocks in Python. \n",
    "You can have one or more try-except blocks within another try or except block. \n",
    "This allows you to handle exceptions at different levels of the code hierarchy, providing more granular exception handling based.\n",
    "Each try block can have its own associated except block to handle the specific exceptions that might occur within that block."
   ]
  },
  {
   "cell_type": "code",
   "execution_count": 3,
   "metadata": {},
   "outputs": [
    {
     "name": "stdout",
     "output_type": "stream",
     "text": [
      "Error: Cannot divide by zero in the inner try-except block.\n"
     ]
    }
   ],
   "source": [
    "# Example\n",
    "try:\n",
    "    # Outer try block\n",
    "    num1 = 10\n",
    "    num2 = 0\n",
    "\n",
    "    try:\n",
    "        # Inner try block\n",
    "        result = num1 / num2\n",
    "        print(\"The result is:\", result)\n",
    "    except ZeroDivisionError:\n",
    "        print(\"Error: Cannot divide by zero in the inner try-except block.\")\n",
    "\n",
    "except ValueError:\n",
    "    print(\"Error: Invalid input. Please enter a valid number in the outer try-except block.\")"
   ]
  },
  {
   "cell_type": "markdown",
   "metadata": {},
   "source": [
    "### 3. How can you create a custom exception class in Python? Provide an example that demonstrates its usage.\n"
   ]
  },
  {
   "cell_type": "markdown",
   "metadata": {},
   "source": [
    "### Ans :\n",
    "In Python, you can create a custom exception class by defining a new class that inherits from the built-in Exception class or any of its subclasses. \n",
    "By creating a custom exception class, you can define your own exception types to handle specific situations in your code.\n",
    "This allows you to create specific exception types tailored to your application's needs."
   ]
  },
  {
   "cell_type": "code",
   "execution_count": 4,
   "metadata": {},
   "outputs": [
    {
     "name": "stdout",
     "output_type": "stream",
     "text": [
      "Error: Invalid input: Input must be numeric.\n"
     ]
    }
   ],
   "source": [
    "# Example\n",
    "class CustomException(Exception):\n",
    "    pass\n",
    "\n",
    "def validate_input(value):\n",
    "    if not value.isnumeric():\n",
    "        raise CustomException(\"Invalid input: Input must be numeric.\")\n",
    "\n",
    "try:\n",
    "    user_input = input(\"Enter a number: \")\n",
    "    validate_input(user_input)\n",
    "    print(\"Valid input:\", user_input)\n",
    "except CustomException as e:\n",
    "    print(\"Error:\", str(e))"
   ]
  },
  {
   "cell_type": "markdown",
   "metadata": {},
   "source": [
    "### 4. What are some common exceptions that are built-in to Python?"
   ]
  },
  {
   "cell_type": "markdown",
   "metadata": {},
   "source": [
    "### Ans :\n",
    "SyntaxError: Raised when there is a syntax error in the code.\n",
    "\n",
    "IndentationError: Raised when there is an issue with the indentation of code.\n",
    "\n",
    "NameError: Raised when a local or global name is not found.\n",
    "\n",
    "TypeError: Raised when an operation or function is applied to an object of an inappropriate type.\n",
    "\n",
    "ValueError: Raised when a function receives an argument of the correct type but with an invalid value.\n",
    "\n",
    "KeyError: Raised when a dictionary key is not found.\n",
    "\n",
    "IndexError: Raised when an index is out of range in a sequence.\n",
    "\n",
    "FileNotFoundError: Raised when a file or directory is not found.\n",
    "\n",
    "ZeroDivisionError: Raised when division or modulo operation is performed with zero as the divisor"
   ]
  },
  {
   "cell_type": "markdown",
   "metadata": {},
   "source": [
    "### 5. What is logging in Python, and why is it important in software development?"
   ]
  },
  {
   "cell_type": "markdown",
   "metadata": {},
   "source": [
    "### Ans:\n",
    "Logging in Python refers to the process of recording messages, warnings, errors, or other information during the execution of a program. The logging module in Python provides a flexible and powerful framework for emitting log messages from Python programs.\n",
    "\n",
    "<b>why it is important in software development :</b>\n",
    "\n",
    "<b>Debugging and Troubleshooting</b>\n",
    "\n",
    "<b>Understanding Program Flow</b>\n",
    "\n",
    "<b>Error Reporting</b>\n",
    "\n",
    "<b>Monitoring and Performance Analysis</b>\n",
    "\n",
    "<b>Security Auditing</b>\n",
    "\n",
    "<b>Production Support</b>"
   ]
  },
  {
   "cell_type": "markdown",
   "metadata": {},
   "source": [
    "### 6. Explain the purpose of log levels in Python logging and provide examples of when each log level would be appropriate.\n"
   ]
  },
  {
   "cell_type": "markdown",
   "metadata": {},
   "source": [
    "### Ans:\n",
    "Log levels in Python logging represent the severity or importance of log messages. They help developers categorize and filter log messages based on their importance, making it easier to focus on specific types of information or issues during development, debugging, and maintenance. The standard log levels, in increasing order of severity, are:\n",
    "\n",
    "<b>1. DEBUG:</b>\n",
    "   - Purpose: Detailed information, typically used for debugging purposes.\n",
    "   - Example: Logging variable values, detailed program flow information.\n",
    "\n",
    "\n",
    "<b>2. INFO:</b>\n",
    "   - Purpose: General information about the program's execution.\n",
    "   - Example: Confirmation that certain steps or processes have been completed.\n",
    "\n",
    "\n",
    "<b>3. WARNING:</b>\n",
    "   - Purpose: Indicates a potential issue or unexpected behavior that doesn't prevent the program from running.\n",
    "   - Example: Deprecation warnings, non-fatal issues that may need attention.\n",
    "\n",
    "\n",
    "<b>4. ERROR:</b>\n",
    "   - Purpose: Indicates a more severe issue that might prevent the program from functioning correctly.\n",
    "   - Example: Errors that can be recovered from, but should be addressed.\n",
    "\n",
    "\n",
    "<b>5. CRITICAL:</b>\n",
    "   - Purpose: Indicates a critical error that may lead to the termination of the program.\n",
    "   - Example: Irrecoverable errors that require immediate attention.\n",
    "\n",
    "\n"
   ]
  },
  {
   "cell_type": "code",
   "execution_count": 5,
   "metadata": {},
   "outputs": [
    {
     "name": "stderr",
     "output_type": "stream",
     "text": [
      "DEBUG:root:This is a debug message.\n",
      "INFO:root:This is an informational message.\n",
      "WARNING:root:This is a warning message.\n",
      "ERROR:root:This is an error message.\n",
      "CRITICAL:root:This is a critical message.\n"
     ]
    }
   ],
   "source": [
    "# Example\n",
    "\n",
    "#1. **DEBUG:**\n",
    "\n",
    "import logging\n",
    "\n",
    "logging.basicConfig(level=logging.DEBUG)\n",
    "logging.debug(\"This is a debug message.\")\n",
    "\n",
    "\n",
    "# 2. **INFO:**\n",
    "\n",
    "logging.basicConfig(level=logging.INFO)\n",
    "logging.info(\"This is an informational message.\")\n",
    "   \n",
    "\n",
    "# 3. **WARNING:**\n",
    "logging.basicConfig(level=logging.WARNING)\n",
    "logging.warning(\"This is a warning message.\")\n",
    "\n",
    "\n",
    "#4. **ERROR:**\n",
    "logging.basicConfig(level=logging.ERROR)\n",
    "logging.error(\"This is an error message.\")\n",
    "\n",
    "#5. **CRITICAL:**\n",
    "logging.basicConfig(level=logging.CRITICAL)\n",
    "logging.critical(\"This is a critical message.\")\n",
    "   \n",
    "\n",
    "\n"
   ]
  },
  {
   "cell_type": "markdown",
   "metadata": {},
   "source": [
    "### 7. What are log formatters in Python logging, and how can you customise the log message format using formatters?"
   ]
  },
  {
   "cell_type": "markdown",
   "metadata": {},
   "source": [
    "### Ans :\n",
    "Log formatters in Python logging are responsible for defining the structure and format of log messages.\n",
    "They allow you to customize the appearance of log messages by specifying the layout and content of each log record. \n",
    "The logging module provides the Formatter class that allows you to create and configure log formatters."
   ]
  },
  {
   "cell_type": "code",
   "execution_count": 6,
   "metadata": {},
   "outputs": [],
   "source": [
    "\n",
    "import logging\n",
    "formatter = logging.Formatter('%(asctime)s - %(levelname)s - %(message)s')"
   ]
  },
  {
   "cell_type": "markdown",
   "metadata": {},
   "source": [
    "### 8. How can you set up logging to capture log messages from multiple modules or classes in a Python application?\n"
   ]
  },
  {
   "cell_type": "code",
   "execution_count": 7,
   "metadata": {},
   "outputs": [
    {
     "name": "stderr",
     "output_type": "stream",
     "text": [
      "INFO:module1:This is an informational message\n",
      "ERROR:module1:An error occurred\n"
     ]
    }
   ],
   "source": [
    "import logging\n",
    "logging.basicConfig(level=logging.DEBUG, filename='app.log', filemode='w')\n",
    "logger = logging.getLogger('module1')     #Here difine the required module\n",
    "logger.info('This is an informational message')\n",
    "logger.error('An error occurred')"
   ]
  },
  {
   "cell_type": "markdown",
   "metadata": {},
   "source": [
    "### 9. What is the difference between the logging and print statements in Python? When should you use logging over print statements in a real-world application?"
   ]
  },
  {
   "cell_type": "markdown",
   "metadata": {},
   "source": [
    "### Ans :\n",
    "The `logging` module and the `print` statement serve different purposes in Python, and choosing between them depends on the context and requirements of your application.\n",
    "\n",
    "#### Differences between `logging` and `print` statements:**\n",
    "\n",
    "<b>1.Output Destination:</b>\n",
    "   - `print`: Sends output to the standard output stream (usually the console).\n",
    "   - `logging`: Allows you to configure different output destinations, such as console, files, sockets, etc., through log handlers.\n",
    "\n",
    "<b>2.Granularity of Information:</b>\n",
    "   - `print`: Typically used for simple debugging or quick output of values during development.\n",
    "   - `logging`: Provides a more sophisticated and configurable logging framework with different log levels (DEBUG, INFO, WARNING, ERROR, CRITICAL) to convey the severity of messages.\n",
    "\n",
    "<b>3.Configurability:</b>\n",
    "   - `print`: Lacks configurability. Once a `print` statement is added, it's challenging to control or disable it without modifying the code.\n",
    "   - `logging`: Offers extensive configurability. You can configure log levels, handlers, formatters, and filters globally or for specific loggers, providing fine-grained control over logging behavior.\n",
    "\n",
    "<b>4.Severity Levels:</b>\n",
    "   - `print`: Does not provide built-in support for different severity levels. All output is treated equally.\n",
    "   - `logging`: Supports different severity levels, allowing you to categorize and filter messages based on their importance (e.g., DEBUG for debugging information, ERROR for critical issues).\n",
    "\n",
    "<b>5.Production Use:</b>\n",
    "   - `print`: Often used for quick debugging during development but is not suitable for production use.\n",
    "   - `logging`: Designed for production use. It allows you to capture and analyze log messages efficiently in a production environment without affecting the user interface.\n",
    "\n",
    "#### When to use `logging` over `print` in a real-world application:\n",
    "\n",
    "<b>Debugging and Development:</b>\n",
    "  - During development and debugging, `print` statements can be useful for quickly inspecting variable values or tracking program flow.\n",
    "  - However, for more systematic debugging and long-term maintenance, integrating logging with appropriate log levels provides a better approach.\n",
    "\n",
    "<b>Production Code:</b>\n",
    "  - In production code, using the `logging` module is highly recommended. It allows you to capture relevant information, categorize issues, and provide a detailed log of the application's behavior.\n",
    "  - `print` statements in production code are generally discouraged because they can clutter the output, may expose sensitive information, and are not easily controllable or configurable.\n",
    "\n",
    "<b>Severity Levels: </b>\n",
    "  - If you need to differentiate between different severity levels of messages (e.g., debugging information, warnings, errors), `logging` provides a clear structure through its log levels.\n",
    "\n",
    "<b>Configurability and Maintenance:</b>\n",
    "  - If you anticipate the need to configure or disable logging statements in different parts of your code without modifying the source, using `logging` with its configurability and modularity is more appropriate.\n"
   ]
  },
  {
   "cell_type": "markdown",
   "metadata": {},
   "source": [
    "### 10. Write a Python program that logs a message to a file named \"app.log\" with the\n",
    "following requirements:\n",
    "\n",
    "● The log message should be \"Hello, World!\"\n",
    "\n",
    "● The log level should be set to \"INFO.\"\n",
    "\n",
    "● The log file should append new log entries without overwriting previous ones.\n"
   ]
  },
  {
   "cell_type": "code",
   "execution_count": 1,
   "metadata": {},
   "outputs": [],
   "source": [
    "import logging\n",
    "\n",
    "# Configure logging\n",
    "logging.basicConfig(\n",
    "    level=logging.INFO,\n",
    "    filename='app.log',\n",
    "    filemode='a',\n",
    "    format='%(asctime)s - %(levelname)s - %(message)s'\n",
    ")\n",
    "\n",
    "# Log the message\n",
    "logging.info('Hello, World!')"
   ]
  },
  {
   "cell_type": "markdown",
   "metadata": {},
   "source": [
    "### 11. Create a Python program that logs an error message to the console and a file named \"errors.log\" if an exception occurs during the program's execution. The error message should include the exception type and a timestamp"
   ]
  },
  {
   "cell_type": "code",
   "execution_count": null,
   "metadata": {},
   "outputs": [],
   "source": [
    "# Ans :\n",
    "import logging\n",
    "\n",
    "# Configure logging\n",
    "logging.basicConfig(\n",
    "    level=logging.ERROR,\n",
    "    format='%(asctime)s - %(levelname)s - %(message)s',\n",
    "    handlers=[\n",
    "        logging.StreamHandler(),  # Console handler\n",
    "        logging.FileHandler('errors.log')  # File handler\n",
    "    ]\n",
    ")"
   ]
  }
 ],
 "metadata": {
  "kernelspec": {
   "display_name": "Python 3",
   "language": "python",
   "name": "python3"
  },
  "language_info": {
   "codemirror_mode": {
    "name": "ipython",
    "version": 3
   },
   "file_extension": ".py",
   "mimetype": "text/x-python",
   "name": "python",
   "nbconvert_exporter": "python",
   "pygments_lexer": "ipython3",
   "version": "3.11.3"
  }
 },
 "nbformat": 4,
 "nbformat_minor": 2
}
