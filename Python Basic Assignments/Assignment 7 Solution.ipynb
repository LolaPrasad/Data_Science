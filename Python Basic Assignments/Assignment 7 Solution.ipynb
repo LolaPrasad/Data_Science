{
 "cells": [
  {
   "cell_type": "markdown",
   "metadata": {},
   "source": [
    "# Assignment 7 Solution"
   ]
  },
  {
   "cell_type": "markdown",
   "metadata": {},
   "source": [
    "### Q.1. Create two int type variables, apply addition, subtraction, division and multiplications and store the results in variables. Then print the data in the following format by calling the\n"
   ]
  },
  {
   "cell_type": "markdown",
   "metadata": {},
   "source": [
    "#### variables:\n",
    "First variable is __ & second variable is __.\n",
    "\n",
    "Addition: __ + __ = __\n",
    "\n",
    "Subtraction: __ - __ = __\n",
    "\n",
    "Multiplication: __ * __ = __\n",
    "\n",
    "Division: __ / __ = __"
   ]
  },
  {
   "cell_type": "code",
   "execution_count": 2,
   "metadata": {},
   "outputs": [
    {
     "name": "stdout",
     "output_type": "stream",
     "text": [
      "First variable is 50 & second variable is 20.\n",
      "Addition 50 + 20 =  70\n",
      "Subtraction 50 - 20 =  30\n",
      "Multiplication 50 * 20 =  1000\n",
      "Division 50 / 20 =  2.5\n"
     ]
    }
   ],
   "source": [
    "# Create Two variable \n",
    "first_variable = 50\n",
    "second_variable = 20\n",
    "\n",
    "\n",
    "Addition = first_variable + second_variable \n",
    "\n",
    "Subtraction = first_variable - second_variable\n",
    "\n",
    "Multiplication = first_variable * second_variable\n",
    "\n",
    "Division = first_variable / second_variable \n",
    "\n",
    "print(\"First variable is {} & second variable is {}.\".format(first_variable,second_variable))\n",
    "print(f\"Addition {first_variable} + {second_variable} = \", Addition)\n",
    "print(f\"Subtraction {first_variable} - {second_variable} = \", Subtraction)\n",
    "print(f\"Multiplication {first_variable} * {second_variable} = \", Multiplication)\n",
    "print(f\"Division {first_variable} / {second_variable} = \", Division)\n"
   ]
  },
  {
   "cell_type": "markdown",
   "metadata": {},
   "source": [
    "### Q.2. What is the difference between the following operators:\n",
    "(i) ‘/’ & ‘//’\n",
    "\n",
    "(ii) ‘**’ & ‘^’\n"
   ]
  },
  {
   "cell_type": "markdown",
   "metadata": {},
   "source": [
    "### Ans :\n",
    "<b>(i) ‘/’ & ‘//’ </b>\n",
    "\n",
    "The division operator (/) returns the quotient of two numbers. The quotient is the result of dividing the numerator by the denominator, and it can be a decimal number. The floor division operator (//) returns the quotient of two numbers, but it always rounds down to the nearest integer.\n",
    "For example, 10 / 3 = 3.333333333333333, but 10 // 3 = 3.\n",
    "\n",
    "<b>(ii) ‘**’ & ‘^’</b>\n",
    "\n",
    "The exponentiation operator (**) raises a number to a power. For example, 2 ** 3 = 8, and 5 ** 2 = 25. The XOR operator (^) performs a bitwise XOR operation on two numbers. In other words, it flips the bits of the first number that are also set in the second number. For example, 10 ^ 5 = 15, and 10 ^ 15 = 0."
   ]
  },
  {
   "cell_type": "code",
   "execution_count": 4,
   "metadata": {},
   "outputs": [
    {
     "name": "stdout",
     "output_type": "stream",
     "text": [
      "3.3333333333333335\n",
      "3\n",
      "8\n",
      "15\n"
     ]
    }
   ],
   "source": [
    "# example \n",
    "# '/' and '//'\n",
    "\n",
    "print(10/3)\n",
    "\n",
    "print(10//3)\n",
    "\n",
    "# ** and ^\n",
    "\n",
    "print(2**3)\n",
    "\n",
    "print(10^5)"
   ]
  },
  {
   "cell_type": "markdown",
   "metadata": {},
   "source": [
    "### Q.3. List the logical operators.\n"
   ]
  },
  {
   "cell_type": "markdown",
   "metadata": {},
   "source": [
    "### Ans :\n",
    "and: - Returns True if both operands are True, otherwise, it returns False.\n",
    "\n",
    "or: - Returns True if at least one operand is True, otherwise, it returns False.\n",
    "\n",
    "not: - Reverses the logical state of its operand."
   ]
  },
  {
   "cell_type": "code",
   "execution_count": 6,
   "metadata": {},
   "outputs": [
    {
     "name": "stdout",
     "output_type": "stream",
     "text": [
      "True\n",
      "True\n",
      "False\n"
     ]
    }
   ],
   "source": [
    "# example \n",
    "\n",
    "print(True and True)\n",
    "\n",
    "print(True or False)\n",
    "\n",
    "print(not True)"
   ]
  },
  {
   "cell_type": "markdown",
   "metadata": {},
   "source": [
    "### Q.4. Explain right shift operator and left shift operator with examples.\n"
   ]
  },
  {
   "cell_type": "markdown",
   "metadata": {},
   "source": [
    "### Ans :\n",
    "In Python, the right shift ('>>') and left shift ('<<') operators are used to perform bitwise shifting on integers.\n",
    "These operators shift the binary representation of the integer by a specified number of positions to the right or left,respectively."
   ]
  },
  {
   "cell_type": "code",
   "execution_count": 1,
   "metadata": {},
   "outputs": [
    {
     "name": "stdout",
     "output_type": "stream",
     "text": [
      "2\n",
      "40\n"
     ]
    }
   ],
   "source": [
    "# Right shift operator\n",
    "a = 10\n",
    "b = a >> 2\n",
    "print(b)  # 2\n",
    "\n",
    "#In this example, the value of a is 10, which is in binary 1010. \n",
    "# The right shift operator shifts the bits of a to the right by 2 positions. \n",
    "# This results in the value of b being 2, which is in binary 0010.\n",
    "\n",
    "# Left shift operator\n",
    "a = 10\n",
    "b = a << 2\n",
    "print(b)  # 40\n",
    "\n",
    "#In this example, the value of a is 10, which is in binary 1010. \n",
    "# The left shift operator shifts the bits of a to the left by 2 positions.\n",
    "# This results in the value of b being 40, which is in binary 101000."
   ]
  },
  {
   "cell_type": "markdown",
   "metadata": {},
   "source": [
    "### Q.5. Create a list containing int type data of length 15. Then write a code to check if 10 is present in the list or not"
   ]
  },
  {
   "cell_type": "code",
   "execution_count": 3,
   "metadata": {},
   "outputs": [
    {
     "name": "stdout",
     "output_type": "stream",
     "text": [
      "List length :  15\n",
      "10 is present in the list \n"
     ]
    }
   ],
   "source": [
    "my_list = [1,34,29,10,5,26,7,80,9,50,24,35,65,45,78]\n",
    "\n",
    "print(\"List length : \",len(my_list))\n",
    "\n",
    "if 10 in my_list:\n",
    "    print(\"10 is present in the list \")\n",
    "else:\n",
    "    print(\"10 is not present in the list \")\n"
   ]
  },
  {
   "cell_type": "code",
   "execution_count": null,
   "metadata": {},
   "outputs": [],
   "source": []
  }
 ],
 "metadata": {
  "kernelspec": {
   "display_name": "Python 3",
   "language": "python",
   "name": "python3"
  },
  "language_info": {
   "codemirror_mode": {
    "name": "ipython",
    "version": 3
   },
   "file_extension": ".py",
   "mimetype": "text/x-python",
   "name": "python",
   "nbconvert_exporter": "python",
   "pygments_lexer": "ipython3",
   "version": "3.11.3"
  }
 },
 "nbformat": 4,
 "nbformat_minor": 2
}
