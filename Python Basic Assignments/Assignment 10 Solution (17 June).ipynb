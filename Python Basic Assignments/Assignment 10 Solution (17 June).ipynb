{
 "cells": [
  {
   "cell_type": "markdown",
   "metadata": {},
   "source": [
    "# Assignment 10 Solution (17 June)"
   ]
  },
  {
   "cell_type": "markdown",
   "metadata": {},
   "source": [
    "### 1. What is the role of try and exception block?"
   ]
  },
  {
   "cell_type": "markdown",
   "metadata": {},
   "source": [
    "### Ans :\n",
    "The try-except block in Python is used to handle exceptions or errors that may occur during the execution of a program.\n",
    "It allows you to write code that can potentially raise an exception and handle it gracefully, \n",
    "preventing the program from crashing or terminating abruptly\n",
    "\n",
    "<b>Try Block :</b>\n",
    "The code that might raise an exception is placed inside the try block.\n",
    "It is the section where you anticipate potential errors or exceptions.\n",
    "If an exception occurs within the try block, the normal flow of execution is interrupted, and the control is transferred to the corresponding except block.\n",
    "\n",
    "<b>Except Block :</b>\n",
    "The code inside the except block is executed when a specific type of exception occurs in the corresponding try block.\n",
    "It allows you to handle the exception gracefully by providing an alternative course of action or preventing the program from crashing.\n",
    "Multiple except blocks can be used to catch different types of exceptions."
   ]
  },
  {
   "cell_type": "code",
   "execution_count": 3,
   "metadata": {},
   "outputs": [
    {
     "name": "stdout",
     "output_type": "stream",
     "text": [
      "Cannot divide by zero!\n",
      "Execution complete.\n"
     ]
    }
   ],
   "source": [
    "# Example\n",
    "try:\n",
    "    # Code that might raise an exception\n",
    "    result = 10 / 0\n",
    "\n",
    "except ZeroDivisionError:\n",
    "    print(\"Cannot divide by zero!\")\n",
    "\n",
    "except ValueError:\n",
    "    print(\"Invalid input. Please enter a valid number.\")\n",
    "\n",
    "else:\n",
    "    # This block is optional and executes if no exception occurs in the try block\n",
    "    print(\"Division result:\", result)\n",
    "\n",
    "finally:\n",
    "    # This block is optional and always executes, regardless of whether an exception occurred\n",
    "    print(\"Execution complete.\")\n"
   ]
  },
  {
   "cell_type": "markdown",
   "metadata": {},
   "source": [
    "### 2. What is the syntax for a basic try-except block?\n"
   ]
  },
  {
   "cell_type": "code",
   "execution_count": null,
   "metadata": {},
   "outputs": [],
   "source": [
    "try:\n",
    "    # Code that might raise an exception\n",
    "    # ...\n",
    "except ExceptionType as e:\n",
    "    # Code to handle the exception\n",
    "    # ...\n"
   ]
  },
  {
   "cell_type": "markdown",
   "metadata": {},
   "source": [
    "### 3. What happens if an exception occurs inside a try block and there is no matching except block?\n"
   ]
  },
  {
   "cell_type": "markdown",
   "metadata": {},
   "source": [
    "### Ans:\n",
    "If an exception occurs inside a try block and there is no matching except block to handle that specific exception,\n",
    "the exception will propagate up the call stack. This means that the program will terminate with an error message, \n",
    "displaying information about the unhandled exception."
   ]
  },
  {
   "cell_type": "code",
   "execution_count": 4,
   "metadata": {},
   "outputs": [
    {
     "ename": "ZeroDivisionError",
     "evalue": "division by zero",
     "output_type": "error",
     "traceback": [
      "\u001b[1;31m---------------------------------------------------------------------------\u001b[0m",
      "\u001b[1;31mZeroDivisionError\u001b[0m                         Traceback (most recent call last)",
      "Cell \u001b[1;32mIn[4], line 6\u001b[0m\n\u001b[0;32m      4\u001b[0m     num1 \u001b[38;5;241m=\u001b[39m \u001b[38;5;241m10\u001b[39m\n\u001b[0;32m      5\u001b[0m     num2 \u001b[38;5;241m=\u001b[39m \u001b[38;5;241m0\u001b[39m\n\u001b[1;32m----> 6\u001b[0m     result \u001b[38;5;241m=\u001b[39m \u001b[43mnum1\u001b[49m\u001b[43m \u001b[49m\u001b[38;5;241;43m/\u001b[39;49m\u001b[43m \u001b[49m\u001b[43mnum2\u001b[49m\n\u001b[0;32m      7\u001b[0m     \u001b[38;5;28mprint\u001b[39m(\u001b[38;5;124m\"\u001b[39m\u001b[38;5;124mThe result is:\u001b[39m\u001b[38;5;124m\"\u001b[39m, result)\n\u001b[0;32m      8\u001b[0m \u001b[38;5;28;01mexcept\u001b[39;00m \u001b[38;5;167;01mValueError\u001b[39;00m:\n",
      "\u001b[1;31mZeroDivisionError\u001b[0m: division by zero"
     ]
    }
   ],
   "source": [
    "# in the below example zero division error occured in try block but we give the value error as exception in except block.\n",
    "# so it terminate abruptly\n",
    "try:\n",
    "    num1 = 10\n",
    "    num2 = 0\n",
    "    result = num1 / num2\n",
    "    print(\"The result is:\", result)\n",
    "except ValueError:\n",
    "    print(\"This block will not handle the ZeroDivisionError.\")\n"
   ]
  },
  {
   "cell_type": "markdown",
   "metadata": {},
   "source": [
    "### 4. What is the difference between using a bare except block and specifying a specific exception type?"
   ]
  },
  {
   "cell_type": "markdown",
   "metadata": {},
   "source": [
    "### Ans :\n",
    "<b>Specific Exception Type:</b>\n",
    "\n",
    "When you specify a particular exception type in the except block, you catch only that specific type of exception and any of its subclasses.\n",
    "This approach allows you to handle different types of exceptions in different ways.\n",
    "It provides more precise control over the exceptions you are expecting and handling.\n",
    "It is generally considered good practice to catch only the exceptions you expect and handle them explicitly.\n",
    "\n",
    "<b>Bare Except Block:</b>\n",
    "\n",
    "A bare except block does not specify a particular exception type, and it catches all exceptions, including built-in exceptions and user-defined ones.\n",
    "It should be used cautiously because it makes it harder to identify the specific cause of an exception.\n",
    "Using a bare except block can lead to unintended consequences, such as catching exceptions you didn't anticipate or masking bugs in your code.\n",
    "It is generally recommended to avoid using bare except blocks unless there is a specific need to catch all exceptions."
   ]
  },
  {
   "cell_type": "code",
   "execution_count": null,
   "metadata": {},
   "outputs": [],
   "source": [
    "# Specific Exception type Example\n",
    "try:\n",
    "    # Some code that might raise a specific exception\n",
    "except ValueError as ve:\n",
    "    # Handle the ValueError\n",
    "except FileNotFoundError as fnfe:\n",
    "    # Handle the FileNotFoundError\n",
    "\n",
    "# Bare except block Example\n",
    "try:\n",
    "    # Some code that might raise any exception\n",
    "except:\n",
    "    # Handle all exceptions (not recommended)\n"
   ]
  },
  {
   "cell_type": "markdown",
   "metadata": {},
   "source": [
    "### 5. Can you have nested try-except blocks in Python? If yes, then give an example"
   ]
  },
  {
   "cell_type": "markdown",
   "metadata": {},
   "source": [
    "### Ans :\n",
    "\n",
    "Yes, you can have nested try-except blocks in Python. This means placing one try-except block inside another. This can be useful in situations where you want to handle exceptions at different levels of granularity. Each nested try block can have its own set of except blocks to handle specific exceptions."
   ]
  },
  {
   "cell_type": "code",
   "execution_count": 8,
   "metadata": {},
   "outputs": [
    {
     "name": "stdout",
     "output_type": "stream",
     "text": [
      "Error: Cannot divide by zero in the inner try-except block.\n"
     ]
    }
   ],
   "source": [
    "# Example\n",
    "try:\n",
    "    # Outer try block\n",
    "    num1 = 10\n",
    "    num2 = 0\n",
    "\n",
    "    try:\n",
    "        # Inner try block\n",
    "        result = num1 / num2\n",
    "        print(\"The result is:\", result)\n",
    "    except ZeroDivisionError:\n",
    "        print(\"Error: Cannot divide by zero in the inner try-except block.\")\n",
    "\n",
    "except ValueError:\n",
    "    print(\"Error: Invalid input. Please enter a valid number in the outer try-except block.\")"
   ]
  },
  {
   "cell_type": "markdown",
   "metadata": {},
   "source": [
    "### 6. Can we use multiple exception blocks, if yes then give an example.\n"
   ]
  },
  {
   "cell_type": "markdown",
   "metadata": {},
   "source": [
    "### Ans :\n",
    "\n",
    "Yes, you can use multiple exception blocks in a try-except statement in Python. This allows you to handle different types of exceptions in a more granular way. You can have multiple except blocks, each associated with a specific exception type."
   ]
  },
  {
   "cell_type": "code",
   "execution_count": 10,
   "metadata": {},
   "outputs": [
    {
     "name": "stdout",
     "output_type": "stream",
     "text": [
      "Cannot divide by zero.\n"
     ]
    }
   ],
   "source": [
    "# Example\n",
    "try:\n",
    "    # Code that might raise exceptions\n",
    "    num1 = 50\n",
    "    num2 = 0\n",
    "    result = num1 / num2\n",
    "\n",
    "except ValueError:\n",
    "    # Handle the case where the input cannot be converted to an integer\n",
    "    print(\"Invalid input. Please enter valid numbers.\")\n",
    "\n",
    "except ZeroDivisionError:\n",
    "    # Handle the case where the second number is zero\n",
    "    print(\"Cannot divide by zero.\")\n",
    "\n",
    "except Exception as e:\n",
    "    # This block will catch any other exceptions\n",
    "    print(f\"An unexpected error occurred: {e}\")\n"
   ]
  },
  {
   "cell_type": "markdown",
   "metadata": {},
   "source": [
    "### 7. Write the reason due to which following errors are raised:\n",
    "a. EOFError\n",
    "\n",
    "b. FloatingPointError\n",
    "\n",
    "c. IndexError\n",
    "\n",
    "d. MemoryError\n",
    "\n",
    "e. OverflowError\n",
    "\n",
    "f. TabError\n",
    "\n",
    "g. ValueError"
   ]
  },
  {
   "cell_type": "markdown",
   "metadata": {},
   "source": [
    "### Ans:\n",
    "<b>a. EOFError (End-of-File Error):</b>\n",
    "Raised when an input operation reaches the end of a file, but the program expected more data.\n",
    "\n",
    "<b>b. FloatingPointError:</b>\n",
    "Raised when a floating-point operation fails. This typically occurs when dividing by zero or when an operation results in an undefined value like infinity.\n",
    "\n",
    "<b>c. IndexError:</b>\n",
    "Raised when trying to access an index in a sequence (e.g., a list or tuple) that is outside the range of valid indices.\n",
    "\n",
    "<b>d. MemoryError:</b>\n",
    "Raised when an operation runs out of memory, indicating that the Python interpreter cannot allocate more space for an object.\n",
    "\n",
    "<b>e. OverflowError:</b>\n",
    "Raised when the result of an arithmetic operation exceeds the representational limits of the data type. For example, attempting to store a value in an integer that is too large.\n",
    "\n",
    "<b>f. TabError:</b>\n",
    "Raised when inconsistent use of tabs and spaces is detected in the indentation of a block of code. Python expects consistent indentation to define the structure of the code.\n",
    "\n",
    "<b>g. ValueError:</b>\n",
    "Raised when a function receives an argument of the correct type but with an invalid value. For example, trying to convert a string to an integer when the string is not a valid integer."
   ]
  },
  {
   "cell_type": "markdown",
   "metadata": {},
   "source": [
    "### 8. Write code for the following given scenario and add try-exception block to it.\n",
    "a. Program to divide two numbers\n",
    "\n",
    "b. Program to convert a string to an integer\n",
    "\n",
    "c. Program to access an element in a list\n",
    "\n",
    "d. Program to handle a specific exception\n",
    "\n",
    "e. Program to handle any exception"
   ]
  },
  {
   "cell_type": "code",
   "execution_count": 12,
   "metadata": {},
   "outputs": [
    {
     "name": "stdout",
     "output_type": "stream",
     "text": [
      "Error: Cannot divide by zero.\n",
      "Error: Invalid input. Please enter a valid integer.\n",
      "Error: Index out of range. Please enter a valid index.\n",
      "Error: Cannot divide by zero!\n",
      "An unexpected error occurred: division by zero\n"
     ]
    }
   ],
   "source": [
    "# Ans:\n",
    "\n",
    "# a. Program to divide two numbers:\n",
    "try:\n",
    "    numerator = int(input(\"Enter the numerator: \"))\n",
    "    denominator = int(input(\"Enter the denominator: \"))\n",
    "    \n",
    "    result = numerator / denominator\n",
    "    print(\"Result:\", result)\n",
    "\n",
    "except ZeroDivisionError:\n",
    "    print(\"Error: Cannot divide by zero.\")\n",
    "\n",
    "except ValueError:\n",
    "    print(\"Error: Invalid input. Please enter valid numbers.\")\n",
    "\n",
    "\n",
    "#b. Program to convert a string to an integer:\n",
    "try:\n",
    "    num_str = input(\"Enter an integer: \")\n",
    "    num_int = int(num_str)\n",
    "    print(\"Integer value:\", num_int)\n",
    "\n",
    "except ValueError:\n",
    "    print(\"Error: Invalid input. Please enter a valid integer.\")\n",
    "\n",
    "\n",
    "#c. Program to access an element in a list:\n",
    "try:\n",
    "    my_list = [1, 2, 3, 4, 5]\n",
    "    index = int(input(\"Enter an index: \"))\n",
    "    \n",
    "    value = my_list[index]\n",
    "    print(\"Value at index {}: {}\".format(index, value))\n",
    "\n",
    "except IndexError:\n",
    "    print(\"Error: Index out of range. Please enter a valid index.\")\n",
    "    \n",
    "\n",
    "\n",
    "#d. Program to handle a specific exception:\n",
    "try:\n",
    "    # Code that might raise a specific exception\n",
    "    x = int(input(\"Enter a number: \"))\n",
    "    result = 10 / x\n",
    "\n",
    "except ZeroDivisionError:\n",
    "    print(\"Error: Cannot divide by zero!\")\n",
    "\n",
    "else:\n",
    "    print(\"Division result:\", result)\n",
    "    \n",
    "\n",
    "# e. Program to handle any exception:\n",
    "try:\n",
    "    # Code that might raise any exception\n",
    "    x = int(input(\"Enter a number: \"))\n",
    "    result = 10 / x\n",
    "\n",
    "except Exception as e:\n",
    "    print(\"An unexpected error occurred:\", e)\n",
    "\n",
    "else:\n",
    "    print(\"Division result:\", result)\n"
   ]
  }
 ],
 "metadata": {
  "kernelspec": {
   "display_name": "Python 3",
   "language": "python",
   "name": "python3"
  },
  "language_info": {
   "codemirror_mode": {
    "name": "ipython",
    "version": 3
   },
   "file_extension": ".py",
   "mimetype": "text/x-python",
   "name": "python",
   "nbconvert_exporter": "python",
   "pygments_lexer": "ipython3",
   "version": "3.11.3"
  }
 },
 "nbformat": 4,
 "nbformat_minor": 2
}
