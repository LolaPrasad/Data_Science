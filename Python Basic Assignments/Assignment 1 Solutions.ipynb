{
 "cells": [
  {
   "cell_type": "markdown",
   "id": "6d6cad9d",
   "metadata": {},
   "source": [
    "###### 1. In the below elements which of them are values or an expression? eg:- values can be integer or string and expressions will be mathematical operators.\n",
    "*,'hello',-87.8,- ,/ ,+,6 "
   ]
  },
  {
   "cell_type": "markdown",
   "id": "cd025af2",
   "metadata": {},
   "source": [
    "###### Ans: \n",
    "There are a total of 4 Operators and 3 Expressions,They are:\n",
    "\n",
    "Operators: * , - , / , +\n",
    "\n",
    "Expressions : 'hello' , -87.8 , 6\n"
   ]
  },
  {
   "cell_type": "markdown",
   "id": "da6e28fa",
   "metadata": {},
   "source": [
    "###### 2. What is the difference between string and variable?"
   ]
  },
  {
   "cell_type": "markdown",
   "id": "9af853d1",
   "metadata": {},
   "source": [
    "###### Ans :\n",
    "String = A String is a data structure  that represents a sequence of characters. Strings are used widely for storing and manipulating text data, representing names, addresses, and other types of data that can be represented as text.\n",
    "\n",
    "Variable = A variable is a named location used to store data in memory. A variable are declared by writting the variable name and assigning it a value using the equals sign"
   ]
  },
  {
   "cell_type": "markdown",
   "id": "f7ada70d",
   "metadata": {},
   "source": [
    "###### 3. Describe three different data types."
   ]
  },
  {
   "cell_type": "markdown",
   "id": "5b34ea15",
   "metadata": {},
   "source": [
    "###### Ans :\n",
    "1. Integer :- Integer are whole number without a fractional or decimal component.They can be positive or negative\n",
    "2. Float :- Floats represent real number and are written with decimal point\n",
    "3. Strings :- Strings in python are sequence of character data.They are created by enclosing characters in quotes(\" \", ' ')"
   ]
  },
  {
   "cell_type": "code",
   "execution_count": 1,
   "id": "09c7e588",
   "metadata": {},
   "outputs": [
    {
     "name": "stdout",
     "output_type": "stream",
     "text": [
      "<class 'int'>\n",
      "<class 'float'>\n",
      "<class 'str'>\n"
     ]
    }
   ],
   "source": [
    "# Example for int data type\n",
    "int_num= 1243\n",
    "print(type(int_num))\n",
    "\n",
    "# Example for float data type\n",
    "float_num= 10.24\n",
    "print(type(float_num))\n",
    "\n",
    "#Example for string\n",
    "string=\"Hello World!!\"\n",
    "print(type(string))"
   ]
  },
  {
   "cell_type": "markdown",
   "id": "27d7308c",
   "metadata": {},
   "source": [
    "###### 4. What is an expression made up of? What do all expressions do?"
   ]
  },
  {
   "cell_type": "markdown",
   "id": "51ac8051",
   "metadata": {},
   "source": [
    "###### Ans:\n",
    "Expression:-An expression is a combination of values, variables, operators, and calls to functions.Expressions are representations of value.For example any string is also an expressions since it represents the value of the string as well. An expression evaluates to a single value.\n"
   ]
  },
  {
   "cell_type": "code",
   "execution_count": 3,
   "id": "0cd015df",
   "metadata": {},
   "outputs": [
    {
     "data": {
      "text/plain": [
       "0"
      ]
     },
     "execution_count": 3,
     "metadata": {},
     "output_type": "execute_result"
    }
   ],
   "source": [
    "8*5+40-80 #Is an expression ,The python interpreter evaluates it to 0"
   ]
  },
  {
   "cell_type": "markdown",
   "id": "c2143a83",
   "metadata": {},
   "source": [
    "###### 5. This assignment statements, like spam = 10. What is the difference between an expression and a statement?"
   ]
  },
  {
   "cell_type": "markdown",
   "id": "b1166592",
   "metadata": {},
   "source": [
    "###### Ans:\n",
    "An expression is a combination of values ,variable and operator.When we type an expression at the prompt,the interpreter executes it,which means that it finds the value of the expression.An expression evaluates to a single value.\n",
    "\n",
    "Ex- 8*5+40-80 \n",
    "\n",
    "A statement is an instruction that the Python interpreter can execute.“spam=10” is an example of assignment statement.Some other kinds of statements are while statements,for statements,if statements, and import statementsetc.\n",
    "\n",
    "Ex- Variable declaration and assignment are statements because they do not return a value"
   ]
  },
  {
   "cell_type": "code",
   "execution_count": 4,
   "id": "5e366755",
   "metadata": {},
   "outputs": [
    {
     "name": "stdout",
     "output_type": "stream",
     "text": [
      "Hello World!!\n"
     ]
    }
   ],
   "source": [
    "#Example\n",
    "8*5+40-80 #Is a expression\n",
    "courseName=\"Full stack data science\" # Is a statement\n",
    "print(\"Hello World!!\") # This is a expression statement"
   ]
  },
  {
   "cell_type": "markdown",
   "id": "63dfdeeb",
   "metadata": {},
   "source": [
    "###### 6. After running the following code, what does the variable bacon contain?\n",
    "bacon = 22\n",
    "\n",
    "bacon + 1\n"
   ]
  },
  {
   "cell_type": "markdown",
   "id": "0165a229",
   "metadata": {},
   "source": [
    "###### Ans:\n",
    "The variable bacon is set to 22.The expression bacon+1 does not reassign the value in bacon (that would need an assignment statement: bacon = bacon + 1)"
   ]
  },
  {
   "cell_type": "code",
   "execution_count": 5,
   "id": "7c72eea7",
   "metadata": {},
   "outputs": [
    {
     "name": "stdout",
     "output_type": "stream",
     "text": [
      "22\n"
     ]
    }
   ],
   "source": [
    "# Example Case 1 \n",
    "bacon=22\n",
    "bacon+1\n",
    "print(bacon)"
   ]
  },
  {
   "cell_type": "code",
   "execution_count": 6,
   "id": "aa27e37d",
   "metadata": {},
   "outputs": [
    {
     "name": "stdout",
     "output_type": "stream",
     "text": [
      "23\n"
     ]
    }
   ],
   "source": [
    "# Example case 2\n",
    "bacon=22\n",
    "bacon=bacon+1\n",
    "print(bacon)"
   ]
  },
  {
   "cell_type": "markdown",
   "id": "1e1b18a7",
   "metadata": {},
   "source": [
    "###### 7. What should the values of the following two terms be?\n",
    "'spam' + 'spamspam'\n",
    "\n",
    "'spam' * 3\n"
   ]
  },
  {
   "cell_type": "markdown",
   "id": "1d5f5558",
   "metadata": {},
   "source": [
    "###### Ans:\n",
    "Both expression evaluate to the string 'spamspamspam' Where as the first expression follows String Concatentation and the second\n",
    "expression follows String multiplication"
   ]
  },
  {
   "cell_type": "code",
   "execution_count": 7,
   "id": "df7dbd1f",
   "metadata": {},
   "outputs": [
    {
     "name": "stdout",
     "output_type": "stream",
     "text": [
      "spamspamspam\n",
      "spamspamspam\n"
     ]
    }
   ],
   "source": [
    "print('spam'+'spamspam') # string concatenation\n",
    "print('spam'*3) # String multiplication"
   ]
  },
  {
   "cell_type": "markdown",
   "id": "93f41c78",
   "metadata": {},
   "source": [
    "###### 8. Why is eggs a valid variable name while 100 is invalid?"
   ]
  },
  {
   "cell_type": "markdown",
   "id": "e477f22a",
   "metadata": {},
   "source": [
    "###### Ans:\n",
    "As per python ,variable names can not begin with a number. The python rules for naming a variable are :-\n",
    "1. Variable name must start with a letter or the underscore character\n",
    "2. Variable name can not start with number.\n",
    "3. Variable name can only contain alpha-numeric character and underscores(A-Z,a-z,0-9 & _).\n",
    "4. Variable names are case sensitive(name,INEURON and ineuron are three different variables)\n",
    "5. The reserved words(keywords)cannot be used naming the variable"
   ]
  },
  {
   "cell_type": "code",
   "execution_count": 8,
   "id": "d4cd5f44",
   "metadata": {},
   "outputs": [
    {
     "ename": "SyntaxError",
     "evalue": "cannot assign to literal here. Maybe you meant '==' instead of '='? (4006343825.py, line 2)",
     "output_type": "error",
     "traceback": [
      "\u001b[1;36m  Cell \u001b[1;32mIn[8], line 2\u001b[1;36m\u001b[0m\n\u001b[1;33m    100=\"hello\"  #Invalid variable Initilization\u001b[0m\n\u001b[1;37m    ^\u001b[0m\n\u001b[1;31mSyntaxError\u001b[0m\u001b[1;31m:\u001b[0m cannot assign to literal here. Maybe you meant '==' instead of '='?\n"
     ]
    }
   ],
   "source": [
    "egg=\"Ineuron\" #Valid variable Initilization\n",
    "100=\"hello\"  #Invalid variable Initilization\n",
    "print(egg)  #print the value of egg i.e Ineuron\n",
    "print(100)  # Raises a Syntax error"
   ]
  },
  {
   "cell_type": "markdown",
   "id": "a19d2d7f",
   "metadata": {},
   "source": [
    "###### 9. What three functions can be used to get the integer, floating-point number, or string version of a value?"
   ]
  },
  {
   "cell_type": "markdown",
   "id": "f715df4d",
   "metadata": {},
   "source": [
    "###### Ans:\n",
    "The int(), float(), and str() functions will evaluate to the integer, floating-point number, and string versions of the value passed to them."
   ]
  },
  {
   "cell_type": "code",
   "execution_count": 10,
   "id": "f32c64fb",
   "metadata": {},
   "outputs": [
    {
     "name": "stdout",
     "output_type": "stream",
     "text": [
      "int(15.00) =  15\n",
      "float(20) =  20.0\n",
      "str(43) =  43\n"
     ]
    }
   ],
   "source": [
    "#Example\n",
    "print('int(15.00) = ',int(15.00)) # int() function converts given input to int\n",
    "print('float(20) = ',float(20))    # float() function converts given input to float\n",
    "print('str(43) = ',str(43))        # str() function converts given input to string"
   ]
  },
  {
   "cell_type": "markdown",
   "id": "1a50e2b0",
   "metadata": {},
   "source": [
    "###### 10. Why does this expression cause an error? How can you fix it?\n",
    "'I have eaten ' + 99 + ' burritos.'\n"
   ]
  },
  {
   "cell_type": "markdown",
   "id": "42b83077",
   "metadata": {},
   "source": [
    "###### Ans:\n",
    "This cause of error is 99.because 99 is not a string.99 must be typecasted to a string to fix this error.The correct way is:\n",
    "input = 'I have eaten'+ str(99) + 'burritos'\n",
    "output= 'I have eaten 99 burritos'"
   ]
  },
  {
   "cell_type": "code",
   "execution_count": 14,
   "id": "e6b29fdc",
   "metadata": {},
   "outputs": [
    {
     "name": "stdout",
     "output_type": "stream",
     "text": [
      "I have eaten 99 burritos \n"
     ]
    }
   ],
   "source": [
    "print('I have eaten ' + str(99) + ' burritos ')"
   ]
  },
  {
   "cell_type": "code",
   "execution_count": null,
   "id": "a9037dca",
   "metadata": {},
   "outputs": [],
   "source": []
  }
 ],
 "metadata": {
  "kernelspec": {
   "display_name": "Python 3 (ipykernel)",
   "language": "python",
   "name": "python3"
  },
  "language_info": {
   "codemirror_mode": {
    "name": "ipython",
    "version": 3
   },
   "file_extension": ".py",
   "mimetype": "text/x-python",
   "name": "python",
   "nbconvert_exporter": "python",
   "pygments_lexer": "ipython3",
   "version": "3.10.9"
  }
 },
 "nbformat": 4,
 "nbformat_minor": 5
}
