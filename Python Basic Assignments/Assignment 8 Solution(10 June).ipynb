{
 "cells": [
  {
   "cell_type": "markdown",
   "metadata": {},
   "source": [
    "# Assignment 8 Solution (10th June)"
   ]
  },
  {
   "cell_type": "markdown",
   "metadata": {},
   "source": [
    "### 1. In Python, what is the difference between a built-in function and a user-defined function? Provide an example of each."
   ]
  },
  {
   "cell_type": "markdown",
   "metadata": {},
   "source": [
    "### Ans :\n",
    "<b>Built-in Functions:</b> \n",
    "These functions are built into the Python language and can be used without the need for additional code. Some examples of built-in functions are print(), len(), sum(), min(), max(), etc.\n",
    "\n",
    "<b>User-defined Functions: </b>\n",
    "You create these functions to perform a specific task. You can define your functions using the def keyword followed by the function name, parameter(s), and the code block that performs the desired operation."
   ]
  },
  {
   "cell_type": "code",
   "execution_count": 1,
   "metadata": {},
   "outputs": [
    {
     "name": "stdout",
     "output_type": "stream",
     "text": [
      "Hello World!!! \n"
     ]
    },
    {
     "data": {
      "text/plain": [
       "15"
      ]
     },
     "execution_count": 1,
     "metadata": {},
     "output_type": "execute_result"
    }
   ],
   "source": [
    "# Example \n",
    "# Built in function\n",
    "print(\"Hello World!!! \")\n",
    "\n",
    "# user define function\n",
    "def sum():\n",
    "    return 5+10\n",
    "\n",
    "sum()"
   ]
  },
  {
   "cell_type": "markdown",
   "metadata": {},
   "source": [
    "### 2. How can you pass arguments to a function in Python? Explain the difference between positional arguments and keyword arguments.\n"
   ]
  },
  {
   "cell_type": "markdown",
   "metadata": {},
   "source": [
    "### Ans:\n",
    "\n",
    "<b>Positional arguments :</b>\n",
    "Positional arguments are passed to the function in the order that they are defined in the function definition. The arguments are matched with the funcction parameters in the order they are defined.In this type we need to pass values in order\n",
    "\n",
    "<b>Keyword arguments : </b>\n",
    "Keyword arguments are passed to a function using the names of the parameters.Instead of relying on the position , you explicitly mention the parameter name followed by the correesponding value. in this type there is no need to pass values in order."
   ]
  },
  {
   "cell_type": "code",
   "execution_count": 2,
   "metadata": {},
   "outputs": [
    {
     "name": "stdout",
     "output_type": "stream",
     "text": [
      "Hello  Ram\n",
      "you are 24 years old\n",
      "Hello  Tom\n",
      "you are 20 years old\n"
     ]
    }
   ],
   "source": [
    "# Examples \n",
    "# positional arguments\n",
    "\n",
    "def greet(name,age):\n",
    "    print(\"Hello \",name)\n",
    "    print(f\"you are {age} years old\")\n",
    "\n",
    "greet(\"Ram\",24)\n",
    "\n",
    "#Keyword arguments \n",
    "def greet(name,age):\n",
    "    print(\"Hello \",name)\n",
    "    print(f\"you are {age} years old\")\n",
    "\n",
    "greet(age=20,name=\"Tom\")"
   ]
  },
  {
   "cell_type": "markdown",
   "metadata": {},
   "source": [
    "### 3. What is the purpose of the return statement in a function? Can a function have multiple return statements? Explain with an example.\n"
   ]
  },
  {
   "cell_type": "markdown",
   "metadata": {},
   "source": [
    "### Ans :\n",
    "The return statement allows a function to provide a value or values as output to the caller. A function can have multiple return statements , but only one of them is executed, and the function exist upon encountering a return statement."
   ]
  },
  {
   "cell_type": "code",
   "execution_count": 5,
   "metadata": {},
   "outputs": [
    {
     "name": "stdout",
     "output_type": "stream",
     "text": [
      "Grade : B\n"
     ]
    }
   ],
   "source": [
    "# example \n",
    "\n",
    "def grade(score):\n",
    "    if score >=90:\n",
    "        return \"A\"\n",
    "    elif score >= 80 :\n",
    "        return \"B\"\n",
    "    elif score >= 70 :\n",
    "        return\"C\"\n",
    "    else:\n",
    "        return \"F\"\n",
    "\n",
    "result = grade(89)\n",
    "print(\"Grade :\",result)"
   ]
  },
  {
   "cell_type": "markdown",
   "metadata": {},
   "source": [
    "### 4. What are lambda functions in Python? How are they different from regular functions? Provide an example where a lambda function can be usefu"
   ]
  },
  {
   "cell_type": "markdown",
   "metadata": {},
   "source": [
    "### Ans:\n",
    "Lambda function is a anonymous function which are used for one time use purpose mostly these are used in map ,reduce ,filter used cases"
   ]
  },
  {
   "cell_type": "code",
   "execution_count": 6,
   "metadata": {},
   "outputs": [
    {
     "name": "stdout",
     "output_type": "stream",
     "text": [
      "[('Durian', 1), ('Apple', 3), ('Mangoes', 3), ('Cherry', 5), ('Banana', 6)]\n"
     ]
    }
   ],
   "source": [
    "# example\n",
    "\n",
    "fruits = [('Apple',3),('Mangoes',3),('Banana',6),('Cherry',5),('Durian',1)]\n",
    "\n",
    "sorted_fruits = sorted(fruits , key=lambda x: x[1])\n",
    "print(sorted_fruits)"
   ]
  },
  {
   "cell_type": "markdown",
   "metadata": {},
   "source": [
    "### 5. How does the concept of \"scope\" apply to functions in Python? Explain the difference between local scope and global scope"
   ]
  },
  {
   "cell_type": "markdown",
   "metadata": {},
   "source": [
    "### Ans:\n",
    "<b>Scope = </b>\n",
    "Scope in Python refers to the visibility of variables and functions within a program. There are two main types of scope in Python: local scope and global scope.\n",
    "\n",
    "<b>Local Scope = </b>\n",
    "Variables and functions defined within a function are said to be in the local scope of that function. This means that they can only be accessed from within that function\n",
    "\n",
    "<b>Global Scope = </b>\n",
    "Variables and functions defined outside of any function are said to be in the global scope. This means that they can be accessed from anywhere within the program"
   ]
  },
  {
   "cell_type": "code",
   "execution_count": 7,
   "metadata": {},
   "outputs": [
    {
     "name": "stdout",
     "output_type": "stream",
     "text": [
      "5\n",
      "10\n"
     ]
    }
   ],
   "source": [
    "# Example\n",
    "\n",
    "# Local Scope \n",
    "def my_function():\n",
    "  x = 5\n",
    "  print(x)\n",
    "\n",
    "my_function()\n",
    "\n",
    "\n",
    "# Global Scope \n",
    "y = 10\n",
    "\n",
    "def my_function():\n",
    "  print(y)\n",
    "\n",
    "my_function()"
   ]
  },
  {
   "cell_type": "markdown",
   "metadata": {},
   "source": [
    "### 6. How can you use the \"return\" statement in a Python function to return multiple values?"
   ]
  },
  {
   "cell_type": "code",
   "execution_count": 8,
   "metadata": {},
   "outputs": [
    {
     "name": "stdout",
     "output_type": "stream",
     "text": [
      "11\n",
      "30\n",
      "[10, 20, 30]\n"
     ]
    }
   ],
   "source": [
    "# Ans :\n",
    "\n",
    "def sum_and_product(a, b):\n",
    "  return a + b, a * b\n",
    "\n",
    "sum_result, product_result = sum_and_product(5, 6)\n",
    "print(sum_result) #  (5 + 6)\n",
    "print(product_result) # (5 * 6)\n",
    "\n",
    "\n",
    "# OR\n",
    "\n",
    "def get_val():\n",
    "    x,y,z=10,20,30\n",
    "    return[x,y,z]\n",
    "\n",
    "result = get_val()\n",
    "print(result)"
   ]
  },
  {
   "cell_type": "markdown",
   "metadata": {},
   "source": [
    "### 7. What is the difference between the \"pass by value\" and \"pass by reference\" concepts when it comes to function arguments in Python?"
   ]
  },
  {
   "cell_type": "markdown",
   "metadata": {},
   "source": [
    "### Ans :\n",
    "<b>Pass by Value :</b>\n",
    "In pass by value, a Copy of the value of the variable is passed to the function. Any modification made to the parameters within the function do not affect the original variable outside the function.\n",
    "\n",
    "<b>Pass by Reference :</b>\n",
    "\n",
    "In pass by reference, a reference to the variable is passed to the function. Any modification made to the parameters within the function also affect the original variable outside the function.\n"
   ]
  },
  {
   "cell_type": "code",
   "execution_count": 10,
   "metadata": {},
   "outputs": [
    {
     "name": "stdout",
     "output_type": "stream",
     "text": [
      "10\n",
      "[1, 3, 2, 5, 4]\n"
     ]
    }
   ],
   "source": [
    "# example \n",
    "# Pass by value\n",
    "\n",
    "def update_value(n):\n",
    "    n=100\n",
    "x=10\n",
    "update_value(x)\n",
    "print(x)\n",
    "\n",
    "def update_list(l):\n",
    "    l.append(4)\n",
    "my_list = [1,3,2,5]\n",
    "update_list(my_list)\n",
    "print(my_list)"
   ]
  },
  {
   "cell_type": "markdown",
   "metadata": {},
   "source": [
    "### 8. Create a function that can intake integer or decimal value and do following operations:\n",
    "a. Logarithmic function (log x)\n",
    "\n",
    "b. Exponential function (exp(x))\n",
    "\n",
    "c. Power function with base 2 (2^x)\n",
    "\n",
    "d. Square root\n"
   ]
  },
  {
   "cell_type": "code",
   "execution_count": 12,
   "metadata": {},
   "outputs": [
    {
     "name": "stdout",
     "output_type": "stream",
     "text": [
      "Logarithmic function(log X) : 0.6931471805599453\n",
      "Exponetial function (exp(x)) : 7.38905609893065\n",
      "Power Function with base 2 (2^x) : 4.0\n",
      "Square root : 1.4142135623730951\n"
     ]
    }
   ],
   "source": [
    "# Ans :\n",
    "\n",
    "import math\n",
    "\n",
    "def math_operation(value):\n",
    "    \n",
    "    # 1. Logarithmic function(log X)\n",
    "    log_result = math.log(value)\n",
    "    \n",
    "    # 2. Exponetial function (exp(x))\n",
    "    exp_result = math.exp(value)\n",
    "    \n",
    "    # 3.Power Function with base 2 (2^x)\n",
    "    power_result = math.pow(2,value)\n",
    "    \n",
    "    # 4. Square root\n",
    "    sqrt_result = math.sqrt(value)\n",
    "    \n",
    "    return log_result , exp_result ,power_result ,sqrt_result\n",
    "\n",
    "result = math_operation(2)\n",
    "\n",
    "print(\"Logarithmic function(log X) :\", result[0])\n",
    "\n",
    "print(\"Exponetial function (exp(x)) :\",result[1])\n",
    "\n",
    "print(\"Power Function with base 2 (2^x) :\",result[2])\n",
    "\n",
    "print(\"Square root :\" ,result[3])\n",
    "\n",
    "    "
   ]
  },
  {
   "cell_type": "markdown",
   "metadata": {},
   "source": [
    "### 9. Create a function that takes a full name as an argument and returns first name and last name."
   ]
  },
  {
   "cell_type": "code",
   "execution_count": 13,
   "metadata": {},
   "outputs": [
    {
     "name": "stdout",
     "output_type": "stream",
     "text": [
      "First name :  Tom\n",
      "Last name :  Jerry\n"
     ]
    }
   ],
   "source": [
    "def name_split(name):\n",
    "    s=name.split(\" \")\n",
    "    f_name = s[0]\n",
    "    l_name = s[1]\n",
    "    print(\"First name : \",f_name)\n",
    "    print(\"Last name : \",l_name)\n",
    "    \n",
    "name_split(\"Tom Jerry\")"
   ]
  }
 ],
 "metadata": {
  "kernelspec": {
   "display_name": "Python 3",
   "language": "python",
   "name": "python3"
  },
  "language_info": {
   "codemirror_mode": {
    "name": "ipython",
    "version": 3
   },
   "file_extension": ".py",
   "mimetype": "text/x-python",
   "name": "python",
   "nbconvert_exporter": "python",
   "pygments_lexer": "ipython3",
   "version": "3.11.3"
  }
 },
 "nbformat": 4,
 "nbformat_minor": 2
}
