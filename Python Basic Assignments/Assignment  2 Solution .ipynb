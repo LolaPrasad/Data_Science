{
 "cells": [
  {
   "cell_type": "markdown",
   "id": "d23509e0",
   "metadata": {},
   "source": [
    "### 1.What are the two values of the Boolean data type? How do you write them?"
   ]
  },
  {
   "cell_type": "markdown",
   "id": "5d680981",
   "metadata": {},
   "source": [
    "#### Ans:\n",
    "    True and False are two values of the boolen data type.We have to use capital T and F with the rest of the word in lowercase otherwise it may raise the error "
   ]
  },
  {
   "cell_type": "code",
   "execution_count": 1,
   "id": "4af213f0",
   "metadata": {},
   "outputs": [
    {
     "name": "stdout",
     "output_type": "stream",
     "text": [
      "True <class 'bool'>\n",
      "False <class 'bool'>\n"
     ]
    }
   ],
   "source": [
    "#example\n",
    "a=True\n",
    "b=False\n",
    "print(a,type(a))\n",
    "print(b,type(b))\n"
   ]
  },
  {
   "cell_type": "markdown",
   "id": "6c87fb4c",
   "metadata": {},
   "source": [
    "### 2. What are the three different types of Boolean operators?"
   ]
  },
  {
   "cell_type": "markdown",
   "id": "1c59bb0f",
   "metadata": {},
   "source": [
    "#### Ans:\n",
    "   The three different types of Boolen operators are:\n",
    "   \n",
    "   1.And :-  If both conditions are true, then the and expression returns a true result. Otherwise,it returns a false result\n",
    "    \n",
    "   2.Or  :-  If at least one of the condition are true, then the and expression returns a true result. Otherwise,it returns a \n",
    "              false result\n",
    "              \n",
    "   3.Not :- Not operator allows you to invert the truth value of Boolean expressions "
   ]
  },
  {
   "cell_type": "code",
   "execution_count": 3,
   "id": "73f25cc2",
   "metadata": {},
   "outputs": [
    {
     "name": "stdout",
     "output_type": "stream",
     "text": [
      "False\n",
      "True\n",
      "True\n"
     ]
    }
   ],
   "source": [
    "a=10\n",
    "b=20\n",
    "print(a>5 and b<10)\n",
    "print(a<20 or b<10)\n",
    "print(not(a>10))\n",
    "\n"
   ]
  },
  {
   "cell_type": "markdown",
   "id": "4bd7fab2",
   "metadata": {},
   "source": [
    "### 3. Make a list of each Boolean operator's truth tables (i.e. every possible combination of Boolean values for the operator and what it evaluate )."
   ]
  },
  {
   "cell_type": "markdown",
   "id": "3371b846",
   "metadata": {},
   "source": [
    "#### Ans:\n",
    "     The Truth tables for the boolen tables are as follows:\n",
    "     \n",
    "    1.Truth table for AND operator:\n",
    "    \n",
    "      True AND True = True\n",
    "      True AND False = False\n",
    "      False AND True = False\n",
    "      False AND False = False\n",
    "      \n",
    "    2.Truth table for OR operator:\n",
    "    \n",
    "      True OR True = True\n",
    "      True OR False = True\n",
    "      False OR True = True\n",
    "      False AND False = False\n",
    "      \n",
    "      \n",
    "    3.Truth table for NOT operator:\n",
    "       \n",
    "       True NOT is False\n",
    "       \n",
    "       False NOT is True \n",
    "      "
   ]
  },
  {
   "cell_type": "markdown",
   "id": "b51badd4",
   "metadata": {},
   "source": [
    "### 4. What are the values of the following expressions?\n",
    "(5 > 4) and (3 == 5)  \n",
    "\n",
    "not (5 > 4)\n",
    "\n",
    "(5 > 4) or (3 == 5)\n",
    "\n",
    "not ((5 > 4) or (3 == 5))\n",
    "\n",
    "(True and True) and (True == False)\n",
    "\n",
    "(not False) or (not True)\n"
   ]
  },
  {
   "cell_type": "code",
   "execution_count": 5,
   "id": "4b25bdb9",
   "metadata": {},
   "outputs": [
    {
     "name": "stdout",
     "output_type": "stream",
     "text": [
      "False\n",
      "False\n",
      "True\n",
      "False\n",
      "False\n",
      "True\n"
     ]
    }
   ],
   "source": [
    "print((5 > 4) and (3 == 5)) # False\n",
    "print(not (5 > 4)) # False\n",
    "print((5 > 4) or (3 == 5)) #True\n",
    "print(not ((5 > 4) or (3 == 5))) # False\n",
    "print((True and True) and (True == False)) # False\n",
    "print((not False) or (not True)) #True"
   ]
  },
  {
   "cell_type": "markdown",
   "id": "8880af17",
   "metadata": {},
   "source": [
    "### 5. What are the six comparison operators?"
   ]
  },
  {
   "cell_type": "markdown",
   "id": "5369a048",
   "metadata": {},
   "source": [
    "#### Ans:\n",
    "    A comparison operator compares two values and returns a boolean value, either True or False .The six comparison operators:\n",
    "    \n",
    "    1.less than ( < )\n",
    "    \n",
    "    2.less than or equal to ( <= ) \n",
    "    \n",
    "    3.greater than ( > )\n",
    "    \n",
    "    4. greater than or equal to ( >= )\n",
    "    \n",
    "    5. equal to ( == )\n",
    "    \n",
    "    6.not equal to ( != )."
   ]
  },
  {
   "cell_type": "markdown",
   "id": "87b565a7",
   "metadata": {},
   "source": [
    "### 6. How do you tell the difference between the equal to and assignment operators?Describe a condition and when you would use one."
   ]
  },
  {
   "cell_type": "markdown",
   "id": "d55d42c9",
   "metadata": {},
   "source": [
    "#### Ans:\n",
    "   The '=' is the so-called assignment operator and is used to assign the result of the expression on the right side of the    operator to the variable on the left side. The '==' is the so-called equality comparison operator and is used to check          whether the two expressions or values on both sides are equal or not."
   ]
  },
  {
   "cell_type": "code",
   "execution_count": 6,
   "id": "ef3f5a25",
   "metadata": {},
   "outputs": [
    {
     "name": "stdout",
     "output_type": "stream",
     "text": [
      "True\n"
     ]
    }
   ],
   "source": [
    "a=100 # Assigning operator that stores 100 value in a variable 'a'\n",
    "if(a==100): # comparing values of a variable value and 100\n",
    "    print(a==100)"
   ]
  },
  {
   "cell_type": "markdown",
   "id": "a3b9d330",
   "metadata": {},
   "source": [
    "### 7. Identify the three blocks in this code:\n",
    "spam = 0\n",
    "\n",
    "if spam == 10:\n",
    "\n",
    "print('eggs')\n",
    "\n",
    "if spam > 5:\n",
    "\n",
    "print('bacon')\n",
    "\n",
    "else:\n",
    "\n",
    "print('ham')\n",
    "\n",
    "print('spam')\n",
    "\n",
    "print('spam')\n"
   ]
  },
  {
   "cell_type": "code",
   "execution_count": 7,
   "id": "8f1f6f8a",
   "metadata": {},
   "outputs": [
    {
     "name": "stdout",
     "output_type": "stream",
     "text": [
      "ham\n",
      "spam\n",
      "spam\n"
     ]
    }
   ],
   "source": [
    "spam=0\n",
    "if spam == 10 :    \n",
    "    print(\"eggs\")    # block 1\n",
    "    \n",
    "if spam > 5 :\n",
    "    print(\"bacon\"  # block 2\n",
    "          \n",
    "else:\n",
    "    print('ham')    # block 3\n",
    "\n",
    "    print('spam')\n",
    "\n",
    "    print('spam')\n",
    "    \n",
    "    "
   ]
  },
  {
   "cell_type": "markdown",
   "id": "013d6d81",
   "metadata": {},
   "source": [
    "### 8. Write code that prints Hello if 1 is stored in spam, prints Howdy if 2 is stored in spam, and prints Greetings! if anything else is stored in spam."
   ]
  },
  {
   "cell_type": "code",
   "execution_count": 10,
   "id": "db858748",
   "metadata": {},
   "outputs": [
    {
     "name": "stdout",
     "output_type": "stream",
     "text": [
      "Hello\n",
      "Howdy\n",
      "Greetings\n"
     ]
    }
   ],
   "source": [
    "def spam_code(spam):\n",
    "    \n",
    "    if spam == 1 :\n",
    "        print(\"Hello\")\n",
    "    elif spam == 2 :\n",
    "        print(\"Howdy\")\n",
    "    else:\n",
    "        print(\"Greetings\")\n",
    "        \n",
    "spam_code(1)\n",
    "spam_code(2)\n",
    "spam_code(5)"
   ]
  },
  {
   "cell_type": "markdown",
   "id": "2e4a22ae",
   "metadata": {},
   "source": [
    "### 9.If your programme is stuck in an endless loop, what keys you’ll press?"
   ]
  },
  {
   "cell_type": "markdown",
   "id": "af32e537",
   "metadata": {},
   "source": [
    "#### Ans:\n",
    "    An infinite loop is a loop that runs indefinitely and it only stops with external intervention or when a break statement is found. Using a Keyboard Interrupt (Ctrl + C) to stop a program stuck in an infinite loop"
   ]
  },
  {
   "cell_type": "markdown",
   "id": "44ece5a7",
   "metadata": {},
   "source": [
    "### 10. How can you tell the difference between break and continue?"
   ]
  },
  {
   "cell_type": "markdown",
   "id": "f27361e0",
   "metadata": {},
   "source": [
    "#### Ans:\n",
    "    The main difference between both the statements is that when break keyword comes, it terminates the execution of the         current loop and passes the control over the next loop, whereas when continue keyword is comes,it skips the current     iteration and executes the very next iteration in the loop."
   ]
  },
  {
   "cell_type": "markdown",
   "id": "83210156",
   "metadata": {},
   "source": [
    "#### 11. In a for loop, what is the difference between range(10), range(0, 10), and range(0, 10, 1)?"
   ]
  },
  {
   "cell_type": "markdown",
   "id": "18213d01",
   "metadata": {},
   "source": [
    "#### Ans:\n",
    "    1. The range(10) call range from 0-9 (but not include 10)\n",
    "    \n",
    "    2. The range(0,10) explicitly tells the loop to start at 0 (not include 10)\n",
    "    \n",
    "    3. The range(0,10,1) explicitly tells the loop to increase the variable by 1 on each iteration"
   ]
  },
  {
   "cell_type": "markdown",
   "id": "2f2618f7",
   "metadata": {},
   "source": [
    "### 12. Write a short program that prints the numbers 1 to 10 using a for loop. Then write an equivalent program that prints the numbers 1 to 10 using a while loop."
   ]
  },
  {
   "cell_type": "code",
   "execution_count": 12,
   "id": "9621d1fb",
   "metadata": {},
   "outputs": [
    {
     "name": "stdout",
     "output_type": "stream",
     "text": [
      "---------- Using for loop ----------\n",
      "1 2 3 4 5 6 7 8 9 10 \n",
      "********** Using while loop **********\n",
      "1 2 3 4 5 6 7 8 9 10 "
     ]
    }
   ],
   "source": [
    "print(\"-\"*10,\"Using for loop\",\"-\"*10)\n",
    "for i in range(1,11):\n",
    "    print(i,end=\" \")\n",
    "print()\n",
    "print(\"*\"*10,\"Using while loop\",\"*\"*10)\n",
    "i=1\n",
    "while i<=10:\n",
    "    print(i,end=\" \")\n",
    "    i+=1"
   ]
  },
  {
   "cell_type": "markdown",
   "id": "5a69cb63",
   "metadata": {},
   "source": [
    "### 13. If you had a function named bacon() inside a module named spam, how would you call it after importing spam?"
   ]
  },
  {
   "cell_type": "markdown",
   "id": "9b5d3cb4",
   "metadata": {},
   "source": [
    "#### Ans:\n",
    "    This function can be called with spam.bacon()"
   ]
  },
  {
   "cell_type": "code",
   "execution_count": null,
   "id": "0d343944",
   "metadata": {},
   "outputs": [],
   "source": []
  }
 ],
 "metadata": {
  "kernelspec": {
   "display_name": "Python 3 (ipykernel)",
   "language": "python",
   "name": "python3"
  },
  "language_info": {
   "codemirror_mode": {
    "name": "ipython",
    "version": 3
   },
   "file_extension": ".py",
   "mimetype": "text/x-python",
   "name": "python",
   "nbconvert_exporter": "python",
   "pygments_lexer": "ipython3",
   "version": "3.10.9"
  }
 },
 "nbformat": 4,
 "nbformat_minor": 5
}
