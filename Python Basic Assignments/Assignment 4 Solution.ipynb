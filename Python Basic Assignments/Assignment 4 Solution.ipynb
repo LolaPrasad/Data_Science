{
 "cells": [
  {
   "cell_type": "markdown",
   "id": "607aedc2",
   "metadata": {},
   "source": [
    "### 1. What exactly is [ ]?\n"
   ]
  },
  {
   "cell_type": "markdown",
   "id": "be8e34b7",
   "metadata": {},
   "source": [
    "#### Ans:\n",
    " \n",
    " The empty list represented by <b>[] is a list that contains no items.This is similar to ' ' which represents an empty string "
   ]
  },
  {
   "cell_type": "code",
   "execution_count": 3,
   "id": "e5582319",
   "metadata": {},
   "outputs": [
    {
     "name": "stdout",
     "output_type": "stream",
     "text": [
      "<class 'list'> =  []\n"
     ]
    }
   ],
   "source": [
    "# Example\n",
    "l=[]\n",
    "print(type(l),\"= \",l)"
   ]
  },
  {
   "cell_type": "markdown",
   "id": "abb8b870",
   "metadata": {},
   "source": [
    "### 2. In a list of values stored in a variable called spam, how would you assign the value 'hello' as the third value? (Assume [2, 4, 6, 8, 10] are in spam.)"
   ]
  },
  {
   "cell_type": "markdown",
   "id": "d73d8b73",
   "metadata": {},
   "source": [
    "#### Ans:\n",
    " spam[2] = \"hello\" (List index started with zero)"
   ]
  },
  {
   "cell_type": "code",
   "execution_count": 6,
   "id": "c8f42e8f",
   "metadata": {},
   "outputs": [
    {
     "name": "stdout",
     "output_type": "stream",
     "text": [
      "[2, 4, 6, 8, 10]\n",
      "\n",
      "[2, 4, 'hello', 8, 10]\n"
     ]
    }
   ],
   "source": [
    "spam=[2,4,6,8,10]\n",
    "print(spam)\n",
    "print()\n",
    "spam[2]=\"hello\"\n",
    "print(spam)"
   ]
  },
  {
   "cell_type": "markdown",
   "id": "b2a4484b",
   "metadata": {},
   "source": [
    "### Let's pretend the spam includes the list ['a', 'b', 'c', 'd'] for the next three queries.\n",
    "\n"
   ]
  },
  {
   "cell_type": "markdown",
   "id": "076c4c13",
   "metadata": {},
   "source": [
    "### 3. What is the value of spam[int(int('3' * 2) / 11)]?"
   ]
  },
  {
   "cell_type": "markdown",
   "id": "456fb317",
   "metadata": {},
   "source": [
    "#### Ans:\n",
    "  'd' (Note that '3'*2 is the string '33',which is passed to int() before being divided by 11. This eventually evaluates to 3, spam[3] is equal to d )"
   ]
  },
  {
   "cell_type": "code",
   "execution_count": 7,
   "id": "ce11c611",
   "metadata": {},
   "outputs": [
    {
     "name": "stdout",
     "output_type": "stream",
     "text": [
      "spam[int(int('3'*2)//11)] :-  d\n"
     ]
    }
   ],
   "source": [
    "spam=['a','b','c','d']\n",
    "print(\"spam[int(int('3'*2)//11)] :- \",spam[int(int('3'*2)//11)])"
   ]
  },
  {
   "cell_type": "markdown",
   "id": "31502c33",
   "metadata": {},
   "source": [
    "### 4. What is the value of spam[-1]?"
   ]
  },
  {
   "cell_type": "markdown",
   "id": "4aaaf943",
   "metadata": {},
   "source": [
    "#### Ans:\n",
    " 'd' (Lists support negative indexing,hence spam[-1] returns 'd')"
   ]
  },
  {
   "cell_type": "code",
   "execution_count": 9,
   "id": "626cac0e",
   "metadata": {},
   "outputs": [
    {
     "name": "stdout",
     "output_type": "stream",
     "text": [
      "spam[-1] :- d\n"
     ]
    }
   ],
   "source": [
    "spam=['a','b','c','d']\n",
    "print(\"spam[-1] :-\",spam[-1])"
   ]
  },
  {
   "cell_type": "markdown",
   "id": "6420dad2",
   "metadata": {},
   "source": [
    "### 5. What is the value of spam[:2]?"
   ]
  },
  {
   "cell_type": "markdown",
   "id": "6435adec",
   "metadata": {},
   "source": [
    "#### Ans:\n",
    "    spam[:2] returns all the elements in the list spam from 0 to 2 excluding 2"
   ]
  },
  {
   "cell_type": "code",
   "execution_count": 10,
   "id": "1d7121ef",
   "metadata": {},
   "outputs": [
    {
     "name": "stdout",
     "output_type": "stream",
     "text": [
      "['a', 'b']\n"
     ]
    }
   ],
   "source": [
    "spam=['a','b','c','d']\n",
    "print(spam[:2])\n",
    "\n",
    "\n"
   ]
  },
  {
   "cell_type": "markdown",
   "id": "9aa0de85",
   "metadata": {},
   "source": [
    "### Let's pretend bacon has the list [3.14, 'cat,' 11, 'cat,' True] for the next three questions.\n",
    "\n"
   ]
  },
  {
   "cell_type": "markdown",
   "id": "e8761591",
   "metadata": {},
   "source": [
    "### 6. What is the value of bacon.index('cat')?"
   ]
  },
  {
   "cell_type": "markdown",
   "id": "74bf5d03",
   "metadata": {},
   "source": [
    "#### Ans:\n",
    "    The value of bacon.index('cat') is 1 (note : index method return the index of first occuerence of 'cat')"
   ]
  },
  {
   "cell_type": "code",
   "execution_count": 13,
   "id": "8302bda1",
   "metadata": {},
   "outputs": [
    {
     "name": "stdout",
     "output_type": "stream",
     "text": [
      "bacon.index('cat') :- 1\n"
     ]
    }
   ],
   "source": [
    "bacon=[3.14, 'cat', 11, 'cat', True]\n",
    "print(\"bacon.index('cat') :-\",bacon.index('cat'))"
   ]
  },
  {
   "cell_type": "markdown",
   "id": "e0e5ef61",
   "metadata": {},
   "source": [
    "### 7. How does bacon.append(99) change the look of the list value in bacon?"
   ]
  },
  {
   "cell_type": "markdown",
   "id": "012dd571",
   "metadata": {},
   "source": [
    "#### Ans:\n",
    "    The append method adds new elements to the end of the list"
   ]
  },
  {
   "cell_type": "code",
   "execution_count": 15,
   "id": "a879f849",
   "metadata": {},
   "outputs": [
    {
     "name": "stdout",
     "output_type": "stream",
     "text": [
      "[3.14, 'cat', 11, 'cat', True]\n",
      "[3.14, 'cat', 11, 'cat', True, 99]\n"
     ]
    }
   ],
   "source": [
    "bacon=[3.14, 'cat', 11, 'cat', True]\n",
    "print(bacon)\n",
    "bacon.append(99)\n",
    "print(bacon)"
   ]
  },
  {
   "cell_type": "markdown",
   "id": "edcfe3dd",
   "metadata": {},
   "source": [
    "### 8. How does bacon.remove('cat') change the look of the list in bacon?"
   ]
  },
  {
   "cell_type": "markdown",
   "id": "7dc75a23",
   "metadata": {},
   "source": [
    "#### Ans:\n",
    "The remove method removes the first occurence of the element in the list "
   ]
  },
  {
   "cell_type": "code",
   "execution_count": 16,
   "id": "0eef0c6a",
   "metadata": {},
   "outputs": [
    {
     "name": "stdout",
     "output_type": "stream",
     "text": [
      "[3.14, 'cat', 11, 'cat', True]\n",
      "\n",
      "[3.14, 11, 'cat', True]\n"
     ]
    }
   ],
   "source": [
    "bacon=[3.14, 'cat', 11, 'cat', True]\n",
    "print(bacon )\n",
    "print()\n",
    "bacon.remove('cat')\n",
    "print(bacon)"
   ]
  },
  {
   "cell_type": "markdown",
   "id": "3345bccf",
   "metadata": {},
   "source": [
    "### 9. What are the list concatenation and list replication operators?"
   ]
  },
  {
   "cell_type": "markdown",
   "id": "985c6667",
   "metadata": {},
   "source": [
    "#### Ans:\n",
    " The operator for list concatenation is <b>+</b> , while the operator for replication if  <b>*</b>. (This is the same as for strings)"
   ]
  },
  {
   "cell_type": "code",
   "execution_count": 17,
   "id": "5157022a",
   "metadata": {},
   "outputs": [
    {
     "name": "stdout",
     "output_type": "stream",
     "text": [
      "[1, 2, 3, 4, 'a', 'b', 'c', 'd']\n",
      "['a', 'b', 'c', 'd', 'a', 'b', 'c', 'd']\n"
     ]
    }
   ],
   "source": [
    "list1=[1,2,3,4]\n",
    "list2=[\"a\",\"b\",\"c\",\"d\"]\n",
    "\n",
    "print(list1 + list2 ) # list concatenation\n",
    "print(list2*2)  #list relication"
   ]
  },
  {
   "cell_type": "markdown",
   "id": "de36e32a",
   "metadata": {},
   "source": [
    "### 10. What is difference between the list methods append() and insert()?"
   ]
  },
  {
   "cell_type": "markdown",
   "id": "d7a81f00",
   "metadata": {},
   "source": [
    "#### Ans:\n",
    "The difference between the append() and insert() is that . append() adds an item to the end of a list, whereas . insert() inserts and item in a specified position in the list"
   ]
  },
  {
   "cell_type": "code",
   "execution_count": 19,
   "id": "0c2319fb",
   "metadata": {},
   "outputs": [
    {
     "name": "stdout",
     "output_type": "stream",
     "text": [
      "[1, 2, 3, 4, 5, 6]\n",
      "[1, 2, 3, 'ML', 4, 5, 6]\n"
     ]
    }
   ],
   "source": [
    "list1 = [1,2,3,4,5]\n",
    "list1.append(6)\n",
    "print(list1)\n",
    "list1.insert(3,\"ML\")\n",
    "print(list1)"
   ]
  },
  {
   "cell_type": "markdown",
   "id": "ada2a9cb",
   "metadata": {},
   "source": [
    "### 11. What are the two methods for removing items from a list?"
   ]
  },
  {
   "cell_type": "markdown",
   "id": "a56a4d20",
   "metadata": {},
   "source": [
    "#### Ans:\n",
    "The <b>pop()</b> method removes an element from the list based on the index given , and the another is <b>remove()</b> it helps to remove the very first given element matching from the list."
   ]
  },
  {
   "cell_type": "markdown",
   "id": "321dd4a1",
   "metadata": {},
   "source": [
    "### 12. Describe how list values and string values are identical."
   ]
  },
  {
   "cell_type": "markdown",
   "id": "84f1d256",
   "metadata": {},
   "source": [
    "#### Ans:\n",
    "   Lists and Strings both are sequences. Both lists and strings can be passed to len() function, have indexes and slices, be used in for loops, be concatenated or replicated, and be used with the in and not in operators."
   ]
  },
  {
   "cell_type": "markdown",
   "id": "f75222cf",
   "metadata": {},
   "source": [
    "### 13. What's the difference between tuples and lists?"
   ]
  },
  {
   "cell_type": "markdown",
   "id": "e480d8a8",
   "metadata": {},
   "source": [
    "#### Ans:\n",
    "Lists are Mutable, Indexable and Slicable. they can have values added, removed, or changed. Tuples are Immutable but Indexable and Slicable. the tuple values cannot be changed at all. Also, tuples are represented using parentheses, (), while lists use the square brackets, [].Lists have several built-in methods\tTuple does not have many built-in methods."
   ]
  },
  {
   "cell_type": "markdown",
   "id": "dda559eb",
   "metadata": {},
   "source": [
    "### 14. How do you type a tuple value that only contains the integer 42?"
   ]
  },
  {
   "cell_type": "markdown",
   "id": "1f00f2a0",
   "metadata": {},
   "source": [
    "#### Ans:\n",
    "    (42,) The trailing comma is mandatory."
   ]
  },
  {
   "cell_type": "code",
   "execution_count": 3,
   "id": "e6c68517",
   "metadata": {},
   "outputs": [
    {
     "name": "stdout",
     "output_type": "stream",
     "text": [
      "<class 'int'>\n",
      "<class 'tuple'>\n"
     ]
    }
   ],
   "source": [
    "tup1=(42)\n",
    "tup2=(42,) #The trailing comma is mandatory.\n",
    "print(type(tup1))\n",
    "print(type(tup2))"
   ]
  },
  {
   "cell_type": "markdown",
   "id": "ed388f0a",
   "metadata": {},
   "source": [
    "### 15. How do you get a list value's tuple form? How do you get a tuple value's list form?"
   ]
  },
  {
   "cell_type": "markdown",
   "id": "ab9edb70",
   "metadata": {},
   "source": [
    "#### Ans:\n",
    "    The tuple() and list() functions, respectively are used to convert a list to tuple and vice versa"
   ]
  },
  {
   "cell_type": "code",
   "execution_count": 8,
   "id": "82e3f388",
   "metadata": {},
   "outputs": [
    {
     "name": "stdout",
     "output_type": "stream",
     "text": [
      "[1, 2, 3, 4, 5]  :-  <class 'list'>\n",
      "('a', 'b', 'c', 'd')  :- <class 'tuple'>\n"
     ]
    }
   ],
   "source": [
    "tup=(1,2,3,4,5)\n",
    "tup1=list(tup)\n",
    "print(tup1,\" :- \",type(tup1))\n",
    "\n",
    "l=[\"a\",\"b\",\"c\",\"d\"]\n",
    "list1=tuple(l)\n",
    "print(list1,\" :-\" , type(list1))"
   ]
  },
  {
   "cell_type": "markdown",
   "id": "bc89d457",
   "metadata": {},
   "source": [
    "### 16. Variables that \"contain\" list values are not necessarily lists themselves. Instead, what do they contain?"
   ]
  },
  {
   "cell_type": "markdown",
   "id": "65a85f2f",
   "metadata": {},
   "source": [
    "#### Ans:\n",
    "    Variables will contain references to list values rather than list values themselves."
   ]
  },
  {
   "cell_type": "markdown",
   "id": "9086a81a",
   "metadata": {},
   "source": [
    "### 17. How do you distinguish between copy.copy() and copy.deepcopy()?\n"
   ]
  },
  {
   "cell_type": "markdown",
   "id": "f79543ed",
   "metadata": {},
   "source": [
    "### Ans:\n",
    "The copy.copy() function will do a shallow copy of a list, while the copy.deepcopy() function will do a deep copy of a list. That is, only copy.deepcopy() will duplicate any lists inside the list."
   ]
  },
  {
   "cell_type": "code",
   "execution_count": 11,
   "id": "f36a65af",
   "metadata": {},
   "outputs": [],
   "source": [
    "import copy  # importing copy module\n",
    "\n",
    "li1 = [1, 2, [3,5], 4]  # creating list\n",
    "\n",
    " \n",
    "\n",
    "\n",
    "li2 = copy.copy(li1)  # using copy for shallow copy\n",
    "\n",
    "\n",
    "li3 = copy.deepcopy(li1) # using deepcopy for deepcopy\n"
   ]
  }
 ],
 "metadata": {
  "kernelspec": {
   "display_name": "Python 3 (ipykernel)",
   "language": "python",
   "name": "python3"
  },
  "language_info": {
   "codemirror_mode": {
    "name": "ipython",
    "version": 3
   },
   "file_extension": ".py",
   "mimetype": "text/x-python",
   "name": "python",
   "nbconvert_exporter": "python",
   "pygments_lexer": "ipython3",
   "version": "3.10.9"
  }
 },
 "nbformat": 4,
 "nbformat_minor": 5
}
