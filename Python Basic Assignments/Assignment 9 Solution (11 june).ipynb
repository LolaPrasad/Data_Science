{
 "cells": [
  {
   "cell_type": "markdown",
   "metadata": {},
   "source": [
    "# Assignment 9 Solution (11 June)"
   ]
  },
  {
   "cell_type": "markdown",
   "metadata": {},
   "source": [
    "### 1. What is a lambda function in Python, and how does it differ from a regular function?"
   ]
  },
  {
   "cell_type": "markdown",
   "metadata": {},
   "source": [
    "### Ans :\n",
    "\n",
    "<b>Lambda : </b>\n",
    "In Python, a lambda function, also known as an anonymous function, is a way to define a function without a name.\n",
    "It is a concise and one-line function that can be created using the lambda keyword.\n",
    "Lambda functions are typically used for simple and short operations that don't require a full function definition.\n",
    "\n",
    "\n",
    "<b>Differ from regular function :</b>\n",
    "a lambda function is a way to define small and anonymous functions in Python using a concise syntax.\n",
    "It differs from regular functions in terms of syntax, function name, body, and usage."
   ]
  },
  {
   "cell_type": "code",
   "execution_count": 2,
   "metadata": {},
   "outputs": [
    {
     "name": "stdout",
     "output_type": "stream",
     "text": [
      "Lambda function :  200\n",
      "Regular function 10\n"
     ]
    }
   ],
   "source": [
    "# Example\n",
    "# Lambda function \n",
    "double = lambda x : x * 2 \n",
    "print(\"Lambda function : \",double(100))\n",
    "\n",
    "# Regular function\n",
    "def double_fun(r):\n",
    "    return r*2\n",
    "\n",
    "print(\"Regular function\",double_fun(5))     "
   ]
  },
  {
   "cell_type": "markdown",
   "metadata": {},
   "source": [
    "### 2. Can a lambda function in Python have multiple arguments? If yes, how can you define and use them?"
   ]
  },
  {
   "cell_type": "markdown",
   "metadata": {},
   "source": [
    "### Ans :\n",
    "Yes, a Python lambda function can have multiple arguments. Lambda functions are anonymous functions that can have any number of arguments, but can only return one expression.\n",
    "To define a lambda function, use the lambda keyword. The syntax for a lambda function is lambda arguments : expression. The input parameters for a lambda function with multiple arguments are separated by a comma."
   ]
  },
  {
   "cell_type": "code",
   "execution_count": 3,
   "metadata": {},
   "outputs": [
    {
     "name": "stdout",
     "output_type": "stream",
     "text": [
      "The result of lambda function is :  80\n"
     ]
    }
   ],
   "source": [
    "# Example \n",
    "\n",
    "add = lambda x,y,z : x+y+z\n",
    "\n",
    "print('The result of lambda function is : ',add(10,20,50))"
   ]
  },
  {
   "cell_type": "markdown",
   "metadata": {},
   "source": [
    "### 3. How are lambda functions typically used in Python? Provide an example use case.\n"
   ]
  },
  {
   "cell_type": "markdown",
   "metadata": {},
   "source": [
    "### Ans : \n",
    "Lambda functions in Python are typically used in scenarios where a small, one-time function is required,\n",
    "especially when passing functions as arguments to higher-order functions. \n",
    "It is used in sorting,filtering,map,reduce cases."
   ]
  },
  {
   "cell_type": "code",
   "execution_count": 4,
   "metadata": {},
   "outputs": [
    {
     "name": "stdout",
     "output_type": "stream",
     "text": [
      "15\n"
     ]
    }
   ],
   "source": [
    "#Example \n",
    "\n",
    "from functools import reduce\n",
    "\n",
    "\n",
    "numbers = [1, 2, 3, 4, 5]\n",
    "sum_of_numbers = reduce(lambda x, y: x + y, numbers)\n",
    "print(sum_of_numbers)"
   ]
  },
  {
   "cell_type": "markdown",
   "metadata": {},
   "source": [
    "### 4. What are the advantages and limitations of lambda functions compared to regular functions in Python?\n"
   ]
  },
  {
   "cell_type": "markdown",
   "metadata": {},
   "source": [
    "### Ans :\n",
    "<b>Here are some of the advantages of lambda functions:</b>\n",
    "\n",
    "Conciseness:\n",
    "Lambda functions are often more concise than regular function definitions, especially when the function is simple and only used once. This can make your code more readable and easier to understand.\n",
    "\n",
    "Readability:\n",
    "In some cases, a lambda expression can improve code readability by making the code more concise and removing the need for a separate function definition. This can be especially helpful when the function is only used in a single place.\n",
    "\n",
    "Anonymity:\n",
    "Since a lambda expression is anonymous, it can be used to reduce the amount of code needed for a simple function, which can make the code easier to understand and maintain.\n",
    "\n",
    "Immutability:\n",
    "Lambda expressions cannot be reused or assigned to variables, which can help enforce functional programming principles.\n",
    "\n",
    "\n",
    "<b>Here are some of the limitations of lambda functions: </b>\n",
    "\n",
    "Scope:\n",
    "Lambda functions are limited to the scope in which they are created. This means that they cannot access variables that are defined outside of their scope.\n",
    "\n",
    "Complexity:\n",
    "Lambda functions are limited to a single expression and cannot contain multiple statements or complex logic. This can make them difficult to use for more complex tasks.\n",
    "\n",
    "Performance:\n",
    "Lambda functions can be slower than regular function definitions, especially for complex tasks. This is because lambda functions are compiled at runtime, while regular function definitions are compiled at compile time."
   ]
  },
  {
   "cell_type": "markdown",
   "metadata": {},
   "source": [
    "### 5. Are lambda functions in Python able to access variables defined outside of their own scope? Explain with an example"
   ]
  },
  {
   "cell_type": "markdown",
   "metadata": {},
   "source": [
    "### Ans : \n",
    "Yes, lambda functions in Python can access variables defined outside of their own scope. \n",
    "They have access to the variables from the enclosing scope in which they are defined. \n",
    "This behavior is known as lexical scoping or closure."
   ]
  },
  {
   "cell_type": "code",
   "execution_count": 5,
   "metadata": {},
   "outputs": [
    {
     "name": "stdout",
     "output_type": "stream",
     "text": [
      "35\n"
     ]
    }
   ],
   "source": [
    "# Example\n",
    "\n",
    "def outer_function():\n",
    "    x = 10\n",
    "    lambda_func = lambda y: x + y\n",
    "    return lambda_func\n",
    "lambda_adder = outer_function()\n",
    "result = lambda_adder(25)\n",
    "print(result)"
   ]
  },
  {
   "cell_type": "markdown",
   "metadata": {},
   "source": [
    "### 6. Write a lambda function to calculate the square of a given numb"
   ]
  },
  {
   "cell_type": "code",
   "execution_count": 7,
   "metadata": {},
   "outputs": [
    {
     "name": "stdout",
     "output_type": "stream",
     "text": [
      "The square of the given number is :  25\n"
     ]
    }
   ],
   "source": [
    "# Ans :\n",
    "\n",
    "Square_no = lambda x : x**2\n",
    "print(\"The square of the given number is : \",Square_no(5))"
   ]
  },
  {
   "cell_type": "markdown",
   "metadata": {},
   "source": [
    "### 7. Create a lambda function to find the maximum value in a list of integers"
   ]
  },
  {
   "cell_type": "code",
   "execution_count": 11,
   "metadata": {},
   "outputs": [
    {
     "name": "stdout",
     "output_type": "stream",
     "text": [
      "Maximum value in the list: 32\n"
     ]
    }
   ],
   "source": [
    "# Ans :\n",
    "numbers = [4, 8, 1, 6, 3, 9, 7, 2,10,32]\n",
    "max_value = max(numbers, key=lambda x: x)\n",
    "\n",
    "print(\"Maximum value in the list:\", max_value)\n",
    "\n",
    "# # Another solution\n",
    "# from functools import reduce\n",
    "# l=[4,6,3,7,8,9,1,4]\n",
    "# max_value=reduce(lambda x,y:x if x>y else y,l)\n",
    "# print(\"The max value is :\",max_value)\n"
   ]
  },
  {
   "cell_type": "markdown",
   "metadata": {},
   "source": [
    "### 8. Implement a lambda function to filter out all the even numbers from a list of integers.\n"
   ]
  },
  {
   "cell_type": "code",
   "execution_count": 17,
   "metadata": {},
   "outputs": [
    {
     "name": "stdout",
     "output_type": "stream",
     "text": [
      "original list : [1, 2, 3, 4, 5, 6, 7, 8, 9, 10, 11, 12]\n",
      "After out all the even numbers from list : [1, 3, 5, 7, 9, 11]\n"
     ]
    }
   ],
   "source": [
    "# Ans :\n",
    "num=[1,2,3,4,5,6,7,8,9,10,11,12]\n",
    "even_no = list(filter(lambda x : x%2!=0 ,num))\n",
    "print(\"original list :\",num)\n",
    "print(\"After out all the even numbers from list :\",even_no)"
   ]
  },
  {
   "cell_type": "markdown",
   "metadata": {},
   "source": [
    "### 9. Write a lambda function to sort a list of strings in ascending order based on the length of each string"
   ]
  },
  {
   "cell_type": "code",
   "execution_count": 20,
   "metadata": {},
   "outputs": [
    {
     "name": "stdout",
     "output_type": "stream",
     "text": [
      "Original list of strings: ['apple', 'banana', 'orange', 'grape', 'kiwi']\n",
      "List of strings sorted by length in ascending order: ['kiwi', 'apple', 'grape', 'banana', 'orange']\n"
     ]
    }
   ],
   "source": [
    "# Ans :\n",
    "strings = [\"apple\", \"banana\", \"orange\", \"grape\", \"kiwi\"]\n",
    "sorted_strings = sorted(strings, key=lambda x: len(x))\n",
    "\n",
    "print(\"Original list of strings:\", strings)\n",
    "print(\"List of strings sorted by length in ascending order:\", sorted_strings)\n"
   ]
  },
  {
   "cell_type": "markdown",
   "metadata": {},
   "source": [
    "### 10. Create a lambda function that takes two lists as input and returns a new list containing the common elements between the two lists.\n"
   ]
  },
  {
   "cell_type": "code",
   "execution_count": 22,
   "metadata": {},
   "outputs": [
    {
     "name": "stdout",
     "output_type": "stream",
     "text": [
      "List 1: [1, 2, 3, 4, 5, 8]\n",
      "List 2: [3, 4, 5, 6, 7, 8]\n",
      "Common elements: [3, 4, 5, 8]\n"
     ]
    }
   ],
   "source": [
    "# Ans \n",
    "list1 = [1, 2, 3, 4, 5,8]\n",
    "list2 = [3,4, 5, 6, 7, 8]\n",
    "common_elements = list(filter(lambda x: x in list1, list2))\n",
    "\n",
    "print(\"List 1:\", list1)\n",
    "print(\"List 2:\", list2)\n",
    "print(\"Common elements:\", common_elements)\n"
   ]
  },
  {
   "cell_type": "markdown",
   "metadata": {},
   "source": [
    "### 11. Write a recursive function to calculate the factorial of a given positive integer"
   ]
  },
  {
   "cell_type": "code",
   "execution_count": 26,
   "metadata": {},
   "outputs": [
    {
     "name": "stdout",
     "output_type": "stream",
     "text": [
      "The factorial of  given positive integer is : 120\n"
     ]
    }
   ],
   "source": [
    "# Ans :\n",
    "def factorial(n):\n",
    "    if n==0 or n==1 :\n",
    "        return 1\n",
    "    else:\n",
    "        return n * factorial(n-1)\n",
    "    \n",
    "result = factorial(5)\n",
    "print(\"The factorial of  given positive integer is :\",result)"
   ]
  },
  {
   "cell_type": "markdown",
   "metadata": {},
   "source": [
    "### 12. Implement a recursive function to compute the nth Fibonacci number"
   ]
  },
  {
   "cell_type": "code",
   "execution_count": 34,
   "metadata": {},
   "outputs": [
    {
     "name": "stdout",
     "output_type": "stream",
     "text": [
      "The 6th Fibonacci number is: 8\n"
     ]
    }
   ],
   "source": [
    "# Ans :\n",
    "def fibonacci(n):\n",
    "    if n<=0:\n",
    "        return 'Invalid input'\n",
    "    elif n==1 or n==2 :\n",
    "        return 1\n",
    "    return fibonacci(n-1)+ fibonacci(n-2)\n",
    "\n",
    "number = 6\n",
    "result =fibonacci(number)\n",
    "print(f\"The {number}th Fibonacci number is: {result}\")\n",
    "        "
   ]
  },
  {
   "cell_type": "markdown",
   "metadata": {},
   "source": [
    "### 13. Create a recursive function to find the sum of all the elements in a given list."
   ]
  },
  {
   "cell_type": "code",
   "execution_count": 36,
   "metadata": {},
   "outputs": [
    {
     "name": "stdout",
     "output_type": "stream",
     "text": [
      "The sum of all the element in a given list : 55\n"
     ]
    }
   ],
   "source": [
    "# And :\n",
    "def sum_of_list(l):\n",
    "    if not l :\n",
    "        return 0\n",
    "    else:\n",
    "        return l[0] + sum_of_list(l[1:])\n",
    "\n",
    "l=[1,2,3,4,5,6,7,8,9,10]\n",
    "\n",
    "result=sum_of_list(l)\n",
    "print(\"The sum of all the element in a given list :\",result)        "
   ]
  },
  {
   "cell_type": "markdown",
   "metadata": {},
   "source": [
    "### 14. Write a recursive function to determine whether a given string is a palindrome."
   ]
  },
  {
   "cell_type": "code",
   "execution_count": 39,
   "metadata": {},
   "outputs": [
    {
     "name": "stdout",
     "output_type": "stream",
     "text": [
      "The string 'radar' is a palindrome.\n"
     ]
    }
   ],
   "source": [
    "# Ans :\n",
    "def is_palindrome(string):\n",
    "    if len(string) <= 1:\n",
    "        return True\n",
    "    else:\n",
    "        if string[0] != string[-1]:\n",
    "            return False\n",
    "        else:\n",
    "            return is_palindrome(string[1:-1])\n",
    "\n",
    "word = \"radar\"\n",
    "result = is_palindrome(word)\n",
    "if result:\n",
    "    print(f\"The string '{word}' is a palindrome.\")\n",
    "else:\n",
    "    print(f\"The string '{word}' is not a palindrome.\")"
   ]
  },
  {
   "cell_type": "markdown",
   "metadata": {},
   "source": [
    "### 15. Implement a recursive function to find the greatest common divisor (GCD) of two positive integers"
   ]
  },
  {
   "cell_type": "code",
   "execution_count": 40,
   "metadata": {},
   "outputs": [
    {
     "name": "stdout",
     "output_type": "stream",
     "text": [
      "The GCD of 48 and 60 is: 12\n"
     ]
    }
   ],
   "source": [
    "# Ans :\n",
    "def gcd(a, b):\n",
    "    if b == 0:\n",
    "        return a\n",
    "    else:\n",
    "        return gcd(b, a % b)\n",
    "num1 = 48\n",
    "num2 = 60\n",
    "result = gcd(num1, num2)\n",
    "print(f\"The GCD of {num1} and {num2} is: {result}\")"
   ]
  }
 ],
 "metadata": {
  "kernelspec": {
   "display_name": "Python 3",
   "language": "python",
   "name": "python3"
  },
  "language_info": {
   "codemirror_mode": {
    "name": "ipython",
    "version": 3
   },
   "file_extension": ".py",
   "mimetype": "text/x-python",
   "name": "python",
   "nbconvert_exporter": "python",
   "pygments_lexer": "ipython3",
   "version": "3.11.3"
  }
 },
 "nbformat": 4,
 "nbformat_minor": 2
}
