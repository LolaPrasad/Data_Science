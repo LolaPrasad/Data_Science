{
 "cells": [
  {
   "cell_type": "markdown",
   "metadata": {},
   "source": [
    "# Assignment 6 Solution "
   ]
  },
  {
   "cell_type": "markdown",
   "metadata": {},
   "source": [
    "### Q.1 . What are keywords in python? Using the keyword library, print all the python keywords"
   ]
  },
  {
   "cell_type": "markdown",
   "metadata": {},
   "source": [
    "#### Ans : \n",
    "In python, keywords are reserved words that have special meaning and purposes within the language. These keyword cannot be used as variable names or identifiers because they are part of the language syntax .All the keywords in Python are written in lowercase except True and False. There are 35 keywords in Python 3.11."
   ]
  },
  {
   "cell_type": "code",
   "execution_count": 1,
   "metadata": {},
   "outputs": [
    {
     "name": "stdout",
     "output_type": "stream",
     "text": [
      "['False', 'None', 'True', 'and', 'as', 'assert', 'async', 'await', 'break', 'class', 'continue', 'def', 'del', 'elif', 'else', 'except', 'finally', 'for', 'from', 'global', 'if', 'import', 'in', 'is', 'lambda', 'nonlocal', 'not', 'or', 'pass', 'raise', 'return', 'try', 'while', 'with', 'yield']\n"
     ]
    }
   ],
   "source": [
    "import keyword\n",
    "keywords = keyword.kwlist\n",
    "print(keywords)"
   ]
  },
  {
   "cell_type": "markdown",
   "metadata": {},
   "source": [
    "### Q.2. What are the rules to create variables in python?"
   ]
  },
  {
   "cell_type": "markdown",
   "metadata": {},
   "source": [
    "#### Ans :\n",
    "A variable name must start with a letter or the underscore character.\n",
    "\n",
    "A variable name cannot start with a number.\n",
    "\n",
    "A variable name can only contain alpha-numeric characters and underscores (A-z, 0-9, and _ )\n",
    "\n",
    "Variable names are case-sensitive (age, Age and AGE are three different variables)\n",
    "\n",
    "It doesn't contain any special character or space except underscore. \n",
    "\n",
    "It doesn't starts with integers and no variable is like only integers. \n",
    "\n",
    "If there is a need to mention an integer then it should definitly combination with alphabets and it must be not the first"
   ]
  },
  {
   "cell_type": "code",
   "execution_count": null,
   "metadata": {},
   "outputs": [],
   "source": [
    "# right way\n",
    "\n",
    "name = \"a\"\n",
    "Abc32 = 10\n",
    "_pqr = 50\n",
    "\n",
    "# wrong way \n",
    "32name= \"a\"\n",
    " a  b c = \"bas\" "
   ]
  },
  {
   "cell_type": "markdown",
   "metadata": {},
   "source": [
    "### Q.3. What are the standards and conventions followed for the nomenclature of variables in python to improve code readability and maintainability? "
   ]
  },
  {
   "cell_type": "markdown",
   "metadata": {},
   "source": [
    "#### Ans :\n",
    "Camel case, where the first letter is lowercase and each subsequent word in a name begins with an uppercase letter.\n",
    "\n",
    "Snake case, where separate words are separated by underscores.\n",
    "\n",
    "Pascal case, where each word in a variable name begins with an uppercase letter.\n",
    "\n",
    "If there is a need to create a variable to sum of 2 numbers then name that variable as sum and avoid other like a,b,c."
   ]
  },
  {
   "cell_type": "markdown",
   "metadata": {},
   "source": [
    "### Q.4. What will happen if a keyword is used as a variable name?\n"
   ]
  },
  {
   "cell_type": "markdown",
   "metadata": {},
   "source": [
    "#### Ans :\n",
    "If we use a keyword as variable then it gives syntax error and compiler will get confused whether it is a variable or key."
   ]
  },
  {
   "cell_type": "code",
   "execution_count": 2,
   "metadata": {},
   "outputs": [
    {
     "ename": "SyntaxError",
     "evalue": "invalid syntax (3980899834.py, line 1)",
     "output_type": "error",
     "traceback": [
      "\u001b[1;36m  Cell \u001b[1;32mIn[2], line 1\u001b[1;36m\u001b[0m\n\u001b[1;33m    if = 10\u001b[0m\n\u001b[1;37m       ^\u001b[0m\n\u001b[1;31mSyntaxError\u001b[0m\u001b[1;31m:\u001b[0m invalid syntax\n"
     ]
    }
   ],
   "source": [
    "if = 10\n",
    "print(if)"
   ]
  },
  {
   "cell_type": "markdown",
   "metadata": {},
   "source": [
    "### Q.5. For what purpose def keyword is used?"
   ]
  },
  {
   "cell_type": "markdown",
   "metadata": {},
   "source": [
    "#### Ans :\n",
    "Python def keyword is used to define a function, it is placed before a function name that is provided by the user to create a user-defined function. In Python, a function is a logical unit of code containing a sequence of statements indented under a name given using the “def” keyword."
   ]
  },
  {
   "cell_type": "code",
   "execution_count": 4,
   "metadata": {},
   "outputs": [
    {
     "data": {
      "text/plain": [
       "100"
      ]
     },
     "execution_count": 4,
     "metadata": {},
     "output_type": "execute_result"
    }
   ],
   "source": [
    "def sum():\n",
    "    return 10+90\n",
    "\n",
    "sum()"
   ]
  },
  {
   "cell_type": "markdown",
   "metadata": {},
   "source": [
    "### Q.6. What is the operation of this special character ‘\\’?"
   ]
  },
  {
   "cell_type": "markdown",
   "metadata": {},
   "source": [
    "#### Ans :\n",
    "It is an escaping letter. In Python strings, the backslash \"\\\" is a special character, also called the \"escape\" character. It is used in representing certain whitespace"
   ]
  },
  {
   "cell_type": "code",
   "execution_count": 6,
   "metadata": {},
   "outputs": [
    {
     "data": {
      "text/plain": [
       "'all \"mangoes\" are in red colour '"
      ]
     },
     "execution_count": 6,
     "metadata": {},
     "output_type": "execute_result"
    }
   ],
   "source": [
    "#  Suppose if we want to print a quoted string in a line of string by using this we can able to print\n",
    "\n",
    "s=\"all \\\"mangoes\\\" are in red colour \"\n",
    "s"
   ]
  },
  {
   "cell_type": "markdown",
   "metadata": {},
   "source": [
    "### Q.7. Give an example of the following conditions:\n",
    "#### (i) Homogeneous list (ii) Heterogeneous set  (iii) Homogeneous tuple\n"
   ]
  },
  {
   "cell_type": "markdown",
   "metadata": {},
   "source": [
    "#### Ans :\n",
    "(i) Homogeneous list: A list that contains only elements of the same data type. For example, a list of numbers, a list of strings, or a list of boolean values.\n",
    "\n",
    "(ii) Heterogeneous set: A set that contains elements of different data types. For example, a set of numbers, a set of strings, and a set of boolean values.\n",
    "\n",
    "(iii) Homogeneous tuple: A tuple that contains only elements of the same data type. For example, a tuple of numbers, a tuple of strings, or a tuple of boolean values."
   ]
  },
  {
   "cell_type": "code",
   "execution_count": 7,
   "metadata": {},
   "outputs": [
    {
     "name": "stdout",
     "output_type": "stream",
     "text": [
      "Homogeneous list :  [1, 2, 3, 4, 5, 6]\n",
      "Heterogeneouse set : {1, 'a', 3.5}\n",
      "Homogeneous tuple : ('hello', 'abc ', 'python')\n"
     ]
    }
   ],
   "source": [
    "# Examples \n",
    "\n",
    "# Homogeneous list \n",
    "l =[1,2,3,4,5,6]\n",
    "print(\"Homogeneous list : \",l)\n",
    "# Heterogeneouse set \n",
    "\n",
    "s= {1,\"a\",3.5,True}\n",
    "print(\"Heterogeneouse set :\",s)\n",
    "# Homogeneous tuple \n",
    "\n",
    "t=('hello','abc ', 'python')\n",
    "print(\"Homogeneous tuple :\",t)"
   ]
  },
  {
   "cell_type": "markdown",
   "metadata": {},
   "source": [
    "### Q.8. Explain the mutable and immutable data types with proper explanation & examples"
   ]
  },
  {
   "cell_type": "markdown",
   "metadata": {},
   "source": [
    "#### Ans :\n",
    "<b>Mutable Data Types:</b>\n",
    "\n",
    "Mutable data types are those that can be modified or changed after creation.\n",
    "When you modify a mutable object, you are actually changing its internal state or content without creating a new object.\n",
    "Some examples of mutable data types in Python are:  List, Sets, dictionaries\n",
    "\n",
    "<b>Immutable Data Types:</b>\n",
    "\n",
    "Immutable data types, on the other hand, cannot be modified after creation.\n",
    "When you \"modify\" an immutable object, you are actually creating a new object with the desired value. \n",
    "The original object remains unchanged. \n",
    "Examples of immutable data types in Python include: integers,floats,strings,tuples"
   ]
  },
  {
   "cell_type": "code",
   "execution_count": 8,
   "metadata": {},
   "outputs": [
    {
     "name": "stdout",
     "output_type": "stream",
     "text": [
      "[1, 2, 3, 4]\n",
      "[10, 2, 3, 4]\n",
      "(1, 3, 4, 5, 6)\n"
     ]
    },
    {
     "ename": "TypeError",
     "evalue": "'tuple' object does not support item assignment",
     "output_type": "error",
     "traceback": [
      "\u001b[1;31m---------------------------------------------------------------------------\u001b[0m",
      "\u001b[1;31mTypeError\u001b[0m                                 Traceback (most recent call last)",
      "Cell \u001b[1;32mIn[8], line 9\u001b[0m\n\u001b[0;32m      7\u001b[0m t \u001b[38;5;241m=\u001b[39m (\u001b[38;5;241m1\u001b[39m,\u001b[38;5;241m3\u001b[39m,\u001b[38;5;241m4\u001b[39m,\u001b[38;5;241m5\u001b[39m,\u001b[38;5;241m6\u001b[39m)\n\u001b[0;32m      8\u001b[0m \u001b[38;5;28mprint\u001b[39m(t)\n\u001b[1;32m----> 9\u001b[0m \u001b[43mt\u001b[49m\u001b[43m[\u001b[49m\u001b[38;5;241;43m0\u001b[39;49m\u001b[43m]\u001b[49m \u001b[38;5;241m=\u001b[39m \u001b[38;5;241m10\u001b[39m\n\u001b[0;32m     10\u001b[0m \u001b[38;5;28mprint\u001b[39m(t)\n",
      "\u001b[1;31mTypeError\u001b[0m: 'tuple' object does not support item assignment"
     ]
    }
   ],
   "source": [
    "# Mutable \n",
    "l =[1,2,3,4]\n",
    "print(l)\n",
    "l[0]= 10\n",
    "print(l)\n",
    "# Immutable\n",
    "t = (1,3,4,5,6)\n",
    "print(t)\n",
    "t[0] = 10\n",
    "print(t)"
   ]
  },
  {
   "cell_type": "markdown",
   "metadata": {},
   "source": [
    "### Q.9. Write a code to create the given structure using only for loop.\n",
    "\n"
   ]
  },
  {
   "cell_type": "code",
   "execution_count": null,
   "metadata": {},
   "outputs": [],
   "source": [
    "\n",
    "#    *\n",
    "#   ***\n",
    "#  *****\n",
    "# *******\n",
    "#*********"
   ]
  },
  {
   "cell_type": "code",
   "execution_count": 41,
   "metadata": {},
   "outputs": [
    {
     "name": "stdout",
     "output_type": "stream",
     "text": [
      "     *\n",
      "    ***\n",
      "   *****\n",
      "  *******\n",
      " *********\n"
     ]
    }
   ],
   "source": [
    "n=5 \n",
    "\n",
    "for i in range(n):\n",
    "    for j in range(n-i):\n",
    "        print(\" \",end=\"\")\n",
    "    for j in range(2* i+1):\n",
    "        print(\"*\",end=\"\")\n",
    "    print()\n"
   ]
  },
  {
   "cell_type": "markdown",
   "metadata": {},
   "source": [
    "### Q.10. Write a code to create the given structure using while loop"
   ]
  },
  {
   "cell_type": "code",
   "execution_count": 42,
   "metadata": {},
   "outputs": [],
   "source": [
    "# |||||||||\n",
    "#  |||||||\n",
    "#   |||||\n",
    "#    |||\n",
    "#     |"
   ]
  },
  {
   "cell_type": "code",
   "execution_count": 59,
   "metadata": {},
   "outputs": [
    {
     "name": "stdout",
     "output_type": "stream",
     "text": [
      "|||||||||\n",
      " |||||||\n",
      "  |||||\n",
      "   |||\n",
      "    |\n"
     ]
    }
   ],
   "source": [
    "rows = 5\n",
    "count = 0\n",
    "spaces = 0\n",
    "\n",
    "while count < rows:\n",
    "    spaces = count\n",
    "\n",
    "    while spaces > 0:\n",
    "        print(\" \", end=\"\")\n",
    "        spaces -= 1\n",
    "\n",
    "    symbols = (2 * (rows - count) - 1)\n",
    "\n",
    "    while symbols > 0:\n",
    "        print(\"|\", end=\"\")\n",
    "        symbols -= 1\n",
    "\n",
    "    print()\n",
    "    count += 1"
   ]
  },
  {
   "cell_type": "code",
   "execution_count": null,
   "metadata": {},
   "outputs": [],
   "source": []
  }
 ],
 "metadata": {
  "kernelspec": {
   "display_name": "Python 3",
   "language": "python",
   "name": "python3"
  },
  "language_info": {
   "codemirror_mode": {
    "name": "ipython",
    "version": 3
   },
   "file_extension": ".py",
   "mimetype": "text/x-python",
   "name": "python",
   "nbconvert_exporter": "python",
   "pygments_lexer": "ipython3",
   "version": "3.11.3"
  }
 },
 "nbformat": 4,
 "nbformat_minor": 2
}
