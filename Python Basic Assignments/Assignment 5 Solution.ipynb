{
 "cells": [
  {
   "cell_type": "markdown",
   "id": "4379462b",
   "metadata": {},
   "source": [
    "### 1. What does an empty dictionary's code look like?"
   ]
  },
  {
   "cell_type": "markdown",
   "id": "27b68f88",
   "metadata": {},
   "source": [
    "#### Ans:\n",
    "An empty pair of curly braces {} is an empty dictionary\n",
    "\n",
    "ex- \n",
    "\n",
    "   <b>d={}  or d=dict()"
   ]
  },
  {
   "cell_type": "code",
   "execution_count": 1,
   "id": "86a0d9c4",
   "metadata": {},
   "outputs": [
    {
     "name": "stdout",
     "output_type": "stream",
     "text": [
      "<class 'dict'>\n",
      "<class 'dict'>\n"
     ]
    }
   ],
   "source": [
    "a={}\n",
    "b=dict()\n",
    "print(type(a))\n",
    "print(type(b))"
   ]
  },
  {
   "cell_type": "markdown",
   "id": "96762aed",
   "metadata": {},
   "source": [
    "### 2. What is the value of a dictionary value with the key 'foo' and the value 42?"
   ]
  },
  {
   "cell_type": "markdown",
   "id": "184b742d",
   "metadata": {},
   "source": [
    "#### Ans:\n",
    "   <b> my_dict={'foo':42}"
   ]
  },
  {
   "cell_type": "code",
   "execution_count": 2,
   "id": "1766fe17",
   "metadata": {},
   "outputs": [
    {
     "name": "stdout",
     "output_type": "stream",
     "text": [
      "{'foo': 42}\n"
     ]
    }
   ],
   "source": [
    "my_dict={'foo':42}\n",
    "print(my_dict)"
   ]
  },
  {
   "cell_type": "markdown",
   "id": "3af8b7dc",
   "metadata": {},
   "source": [
    "### 3. What is the most significant distinction between a dictionary and a list?"
   ]
  },
  {
   "cell_type": "markdown",
   "id": "9ed05db8",
   "metadata": {},
   "source": [
    "#### Ans:\n",
    "The list is a collection of index value pairs like that of the array in other languages.The dictionary is a hashed structure of the key and value pairs.The list is created by placing elements in [ ] separated by commas “,”. The dictionary is created by placing elements in { } as “key”:”value”, each key-value pair is separated by commas “, “. The elements are accessed via indices. The elements are accessed via key-value pairs.Lists are orders, mutable, and can contain duplicate values.Dictionaries are unordered and mutable but they cannot contain duplicate keys."
   ]
  },
  {
   "cell_type": "code",
   "execution_count": 3,
   "id": "8737e958",
   "metadata": {},
   "outputs": [
    {
     "name": "stdout",
     "output_type": "stream",
     "text": [
      "{'name': 'Alice', 'Age': 21}\n",
      "Alice\n",
      "\n",
      "[1, 2, 3, 4, 5, 6]\n",
      "5\n"
     ]
    }
   ],
   "source": [
    "my_dict={\"name\":\"Alice\",\"Age\":21} # creating dictionary\n",
    "print(my_dict)\n",
    "print(my_dict[\"name\"]) # accessing elemrnt using key\n",
    "print()\n",
    "\n",
    "my_list=[1,2,3,4,5,6] #creating list\n",
    "print(my_list)\n",
    "print(my_list[4])  # accessing the element using index"
   ]
  },
  {
   "cell_type": "markdown",
   "id": "1c9a5437",
   "metadata": {},
   "source": [
    "### 4. What happens if you try to access spam['foo'] if spam is {'bar': 100}?"
   ]
  },
  {
   "cell_type": "markdown",
   "id": "1856a547",
   "metadata": {},
   "source": [
    "#### Ans:\n",
    " We will get a keyError \n",
    " \n",
    " <b>KeyError: 'foo'"
   ]
  },
  {
   "cell_type": "code",
   "execution_count": 4,
   "id": "0f903847",
   "metadata": {},
   "outputs": [
    {
     "ename": "KeyError",
     "evalue": "'foo'",
     "output_type": "error",
     "traceback": [
      "\u001b[1;31m---------------------------------------------------------------------------\u001b[0m",
      "\u001b[1;31mKeyError\u001b[0m                                  Traceback (most recent call last)",
      "Cell \u001b[1;32mIn[4], line 2\u001b[0m\n\u001b[0;32m      1\u001b[0m spam\u001b[38;5;241m=\u001b[39m{\u001b[38;5;124m'\u001b[39m\u001b[38;5;124mbar\u001b[39m\u001b[38;5;124m'\u001b[39m:\u001b[38;5;241m100\u001b[39m}\n\u001b[1;32m----> 2\u001b[0m \u001b[43mspam\u001b[49m\u001b[43m[\u001b[49m\u001b[38;5;124;43m'\u001b[39;49m\u001b[38;5;124;43mfoo\u001b[39;49m\u001b[38;5;124;43m'\u001b[39;49m\u001b[43m]\u001b[49m\n",
      "\u001b[1;31mKeyError\u001b[0m: 'foo'"
     ]
    }
   ],
   "source": [
    "spam={'bar':100}\n",
    "spam['foo']"
   ]
  },
  {
   "cell_type": "markdown",
   "id": "65629b10",
   "metadata": {},
   "source": [
    "### 5. If a dictionary is stored in spam, what is the difference between the expressions 'cat' in spam and 'cat' in spam.keys()?"
   ]
  },
  {
   "cell_type": "markdown",
   "id": "f1d8e8b8",
   "metadata": {},
   "source": [
    "#### Ans:\n",
    "There is no difference . The operator checks whether a value exits as a key in the dictionary or not"
   ]
  },
  {
   "cell_type": "code",
   "execution_count": 5,
   "id": "312ef349",
   "metadata": {},
   "outputs": [
    {
     "data": {
      "text/plain": [
       "True"
      ]
     },
     "execution_count": 5,
     "metadata": {},
     "output_type": "execute_result"
    }
   ],
   "source": [
    "spam={'cat':100}\n",
    "'cat' in spam"
   ]
  },
  {
   "cell_type": "code",
   "execution_count": 7,
   "id": "175bdc72",
   "metadata": {},
   "outputs": [
    {
     "data": {
      "text/plain": [
       "True"
      ]
     },
     "execution_count": 7,
     "metadata": {},
     "output_type": "execute_result"
    }
   ],
   "source": [
    "'cat' in spam.keys()"
   ]
  },
  {
   "cell_type": "markdown",
   "id": "7bc881d3",
   "metadata": {},
   "source": [
    "### 6. If a dictionary is stored in spam, what is the difference between the expressions 'cat' in spam and 'cat' in spam.values()?"
   ]
  },
  {
   "cell_type": "markdown",
   "id": "3d31d82f",
   "metadata": {},
   "source": [
    "#### Ans:\n",
    "'cat' in spam checks whether there is a 'cat' key in the dictionary. 'cat' in spam.values() checks whether there is a value 'cat' for one of the keys in spam."
   ]
  },
  {
   "cell_type": "code",
   "execution_count": 8,
   "id": "b887223e",
   "metadata": {},
   "outputs": [
    {
     "data": {
      "text/plain": [
       "True"
      ]
     },
     "execution_count": 8,
     "metadata": {},
     "output_type": "execute_result"
    }
   ],
   "source": [
    "spam={'cat':100}\n",
    "'cat' in spam"
   ]
  },
  {
   "cell_type": "code",
   "execution_count": 10,
   "id": "3108ede3",
   "metadata": {},
   "outputs": [
    {
     "data": {
      "text/plain": [
       "False"
      ]
     },
     "execution_count": 10,
     "metadata": {},
     "output_type": "execute_result"
    }
   ],
   "source": [
    "'cat'in  spam.values()"
   ]
  },
  {
   "cell_type": "markdown",
   "id": "e1d0d80d",
   "metadata": {},
   "source": [
    "### 7. What is a shortcut for the following code?\n",
    "if 'color' not in spam:\n",
    "\n",
    "spam['color'] = 'black'\n"
   ]
  },
  {
   "cell_type": "markdown",
   "id": "f33f88a8",
   "metadata": {},
   "source": [
    "#### Ans:\n",
    "<b>spam.setdefault('color','black')"
   ]
  },
  {
   "cell_type": "code",
   "execution_count": 14,
   "id": "05a90777",
   "metadata": {},
   "outputs": [
    {
     "data": {
      "text/plain": [
       "'black'"
      ]
     },
     "execution_count": 14,
     "metadata": {},
     "output_type": "execute_result"
    }
   ],
   "source": [
    "# shortcut for  if 'color' not in spam: spam['color'] = 'black'\n",
    "spam.setdefault('color','black') "
   ]
  },
  {
   "cell_type": "markdown",
   "id": "924de6de",
   "metadata": {},
   "source": [
    "### 8. How do you \"pretty print\" dictionary values using which module and function?"
   ]
  },
  {
   "cell_type": "markdown",
   "id": "1d1b99f3",
   "metadata": {},
   "source": [
    "#### Ans:\n",
    "    we can pretty print a dictionary using three functions\n",
    "\n",
    "   1. by using pprint() function of pprint module\n",
    "    Note: pprint() function doesnot prettify nested dictionaries\n",
    "   2. by using dumps() method of json module\n",
    "   3. by using dumps() method of yaml module"
   ]
  },
  {
   "cell_type": "code",
   "execution_count": 1,
   "id": "5bea3935",
   "metadata": {},
   "outputs": [
    {
     "name": "stdout",
     "output_type": "stream",
     "text": [
      "Printing using print() function\n",
      " [{'Name': 'Alice', 'Age': 24, 'Residence': {'Country': 'USA', 'City': 'New York'}}, {'Name': 'Jose', 'Age': 21, 'Residence': {'Country': 'Spain', 'City': 'Madrid'}}, {'Name': 'Anne', 'Age': 20, 'Residence': {'Country': 'UK', 'City': 'London'}}, {'Name': 'Lee', 'Age': 25, 'Residence': {'Country': 'Japan', 'City': 'Tokyo'}}]\n",
      "----------------------------------------------------------------------\n",
      "Printing using pprint() funciton\n",
      "[{'Age': 24,\n",
      "  'Name': 'Alice',\n",
      "  'Residence': {'City': 'New York', 'Country': 'USA'}},\n",
      " {'Age': 21,\n",
      "  'Name': 'Jose',\n",
      "  'Residence': {'City': 'Madrid', 'Country': 'Spain'}},\n",
      " {'Age': 20, 'Name': 'Anne', 'Residence': {'City': 'London', 'Country': 'UK'}},\n",
      " {'Age': 25, 'Name': 'Lee', 'Residence': {'City': 'Tokyo', 'Country': 'Japan'}}]\n",
      "----------------------------------------------------------------------\n",
      "Printing using dumps() method\n",
      " [\n",
      "    {\n",
      "        \"Name\": \"Alice\",\n",
      "        \"Age\": 24,\n",
      "        \"Residence\": {\n",
      "            \"Country\": \"USA\",\n",
      "            \"City\": \"New York\"\n",
      "        }\n",
      "    },\n",
      "    {\n",
      "        \"Name\": \"Jose\",\n",
      "        \"Age\": 21,\n",
      "        \"Residence\": {\n",
      "            \"Country\": \"Spain\",\n",
      "            \"City\": \"Madrid\"\n",
      "        }\n",
      "    },\n",
      "    {\n",
      "        \"Name\": \"Anne\",\n",
      "        \"Age\": 20,\n",
      "        \"Residence\": {\n",
      "            \"Country\": \"UK\",\n",
      "            \"City\": \"London\"\n",
      "        }\n",
      "    },\n",
      "    {\n",
      "        \"Name\": \"Lee\",\n",
      "        \"Age\": 25,\n",
      "        \"Residence\": {\n",
      "            \"Country\": \"Japan\",\n",
      "            \"City\": \"Tokyo\"\n",
      "        }\n",
      "    }\n",
      "]\n",
      "----------------------------------------------------------------------\n",
      "Printing using dump() method\n",
      " - Age: 24\n",
      "  Name: Alice\n",
      "  Residence:\n",
      "    City: New York\n",
      "    Country: USA\n",
      "- Age: 21\n",
      "  Name: Jose\n",
      "  Residence:\n",
      "    City: Madrid\n",
      "    Country: Spain\n",
      "- Age: 20\n",
      "  Name: Anne\n",
      "  Residence:\n",
      "    City: London\n",
      "    Country: UK\n",
      "- Age: 25\n",
      "  Name: Lee\n",
      "  Residence:\n",
      "    City: Tokyo\n",
      "    Country: Japan\n",
      "\n"
     ]
    }
   ],
   "source": [
    "my_dict = [\n",
    "  {'Name': 'Alice', 'Age': 24, 'Residence': {'Country':'USA', 'City': 'New York'}},\n",
    "  {'Name': 'Jose', 'Age': 21, 'Residence': {'Country':'Spain', 'City': 'Madrid'}},\n",
    "  {'Name': 'Anne', 'Age': 20, 'Residence': {'Country':'UK', 'City': 'London'}},\n",
    "  {'Name': 'Lee', 'Age': 25, 'Residence': {'Country':'Japan', 'City': 'Tokyo'}}\n",
    "]\n",
    "\n",
    "print('Printing using print() function\\n',my_dict)\n",
    "print('-'*70)\n",
    "import pprint\n",
    "print('Printing using pprint() funciton')\n",
    "pprint.pprint(my_dict)\n",
    "print('-'*70)\n",
    "import json\n",
    "dump = json.dumps(my_dict, indent=4)\n",
    "print('Printing using dumps() method\\n', dump)\n",
    "print('-'*70)\n",
    "import yaml\n",
    "dump = yaml.dump(my_dict)\n",
    "print('Printing using dump() method\\n', dump)"
   ]
  },
  {
   "cell_type": "code",
   "execution_count": null,
   "id": "ff3f004b",
   "metadata": {},
   "outputs": [],
   "source": []
  }
 ],
 "metadata": {
  "kernelspec": {
   "display_name": "Python 3 (ipykernel)",
   "language": "python",
   "name": "python3"
  },
  "language_info": {
   "codemirror_mode": {
    "name": "ipython",
    "version": 3
   },
   "file_extension": ".py",
   "mimetype": "text/x-python",
   "name": "python",
   "nbconvert_exporter": "python",
   "pygments_lexer": "ipython3",
   "version": "3.10.9"
  }
 },
 "nbformat": 4,
 "nbformat_minor": 5
}
